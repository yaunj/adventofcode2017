{
 "cells": [
  {
   "cell_type": "markdown",
   "metadata": {},
   "source": [
    "# Day 15: Dueling Generators\n",
    "\n",
    "Here, you encounter a pair of dueling generators. The generators, called *generator A* and *generator B*, are trying to agree on a sequence of numbers. However, one of them is malfunctioning, and so the sequences don't always match.\n",
    "\n",
    "As they do this, a *judge* waits for each of them to generate its next value, compares the lowest 16 bits of both values, and keeps track of the number of times those parts of the values match.\n",
    "\n",
    "The generators both work on the same principle. To create its next value, a generator will take the previous value it produced, multiply it by a *factor* (generator A uses 16807; generator B uses 48271), and then keep the remainder of dividing that resulting product by 2147483647. That final remainder is the value it produces next.\n",
    "\n",
    "To calculate each generator's first value, it instead uses a specific starting value as its \"previous value\" (as listed in your puzzle input).\n",
    "\n",
    "For example, suppose that for starting values, generator A uses `65`, while generator B uses `8921`. Then, the first five pairs of generated values are:\n",
    "\n",
    "    --Gen. A--  --Gen. B--\n",
    "       1092455   430625591\n",
    "    1181022009  1233683848\n",
    "     245556042  1431495498\n",
    "    1744312007   137874439\n",
    "    1352636452   285222916\n",
    "\n",
    "In binary, these pairs are (with generator A's value first in each pair):\n",
    "\n",
    "    00000000000100001010101101100111\n",
    "    00011001101010101101001100110111\n",
    "    \n",
    "    01000110011001001111011100111001\n",
    "    01001001100010001000010110001000\n",
    "    \n",
    "    00001110101000101110001101001010\n",
    "    01010101010100101110001101001010\n",
    "    \n",
    "    01100111111110000001011011000111\n",
    "    00001000001101111100110000000111\n",
    "    \n",
    "    01010000100111111001100000100100\n",
    "    00010001000000000010100000000100\n",
    "\n",
    "Here, you can see that the lowest (here, rightmost) 16 bits of the third value match: `1110001101001010`. Because of this one match, after processing these five pairs, the judge would have added only 1 to its total.\n",
    "\n",
    "To get a significant sample, the judge would like to consider *40 million* pairs. (In the example above, the judge would eventually find a total of `588` pairs that match in their lowest 16 bits.)\n",
    "\n",
    "After 40 million pairs, what is the judge's final count?"
   ]
  },
  {
   "cell_type": "markdown",
   "metadata": {},
   "source": [
    "## Solution\n",
    "\n",
    "First, define the generator factors:"
   ]
  },
  {
   "cell_type": "code",
   "execution_count": 1,
   "metadata": {
    "collapsed": true
   },
   "outputs": [],
   "source": [
    "factor_a = 16807\n",
    "factor_b = 48271"
   ]
  },
  {
   "cell_type": "markdown",
   "metadata": {},
   "source": [
    "Then, a generator function for the generators ..."
   ]
  },
  {
   "cell_type": "code",
   "execution_count": 2,
   "metadata": {
    "collapsed": true
   },
   "outputs": [],
   "source": [
    "def generator(start, factor):\n",
    "    current = start\n",
    "\n",
    "    while True:\n",
    "        current = (current * factor) % 2147483647\n",
    "        yield current"
   ]
  },
  {
   "cell_type": "markdown",
   "metadata": {},
   "source": [
    "The judge takes two generators, and a sample count, and returns the number of times the lowest 16 bits of generator a matched the lowest 16 bits of generator b."
   ]
  },
  {
   "cell_type": "code",
   "execution_count": 3,
   "metadata": {
    "collapsed": true
   },
   "outputs": [],
   "source": [
    "def judge(a, b, samples=40000000):\n",
    "    mask = (1 << 16) - 1  # This mask can be used to get the low 16 bits\n",
    "    return sum((next(a) & mask) == (next(b) & mask) for _ in range(samples))"
   ]
  },
  {
   "cell_type": "markdown",
   "metadata": {},
   "source": [
    "Then we can run the test cases from the challenge text:"
   ]
  },
  {
   "cell_type": "code",
   "execution_count": 4,
   "metadata": {
    "collapsed": true
   },
   "outputs": [],
   "source": [
    "test_a = 65\n",
    "test_b = 8921\n",
    "\n",
    "assert judge(generator(test_a, factor_a),\n",
    "             generator(test_b, factor_b), 5) == 1\n",
    "assert judge(generator(test_a, factor_a),\n",
    "             generator(test_b, factor_b)) == 588"
   ]
  },
  {
   "cell_type": "markdown",
   "metadata": {},
   "source": [
    "And finally we solve part 1 of the challenge:"
   ]
  },
  {
   "cell_type": "code",
   "execution_count": 5,
   "metadata": {
    "collapsed": false
   },
   "outputs": [
    {
     "data": {
      "text/plain": [
       "626"
      ]
     },
     "execution_count": 5,
     "metadata": {},
     "output_type": "execute_result"
    }
   ],
   "source": [
    "start_a, start_b = list(\n",
    "    int(line.strip().split()[-1]) for line in\n",
    "    open('day15.txt').readlines()\n",
    ")\n",
    "judge(generator(start_a, factor_a),\n",
    "      generator(start_b, factor_b))"
   ]
  }
 ],
 "metadata": {
  "kernelspec": {
   "display_name": "Python 3",
   "language": "python",
   "name": "python3"
  },
  "language_info": {
   "codemirror_mode": {
    "name": "ipython",
    "version": 3
   },
   "file_extension": ".py",
   "mimetype": "text/x-python",
   "name": "python",
   "nbconvert_exporter": "python",
   "pygments_lexer": "ipython3",
   "version": "3.5.3"
  }
 },
 "nbformat": 4,
 "nbformat_minor": 2
}
