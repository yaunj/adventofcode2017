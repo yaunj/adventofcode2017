{
 "cells": [
  {
   "cell_type": "markdown",
   "metadata": {},
   "source": [
    "# Day 16: Permutation Promenade\n",
    "\n",
    "You come upon a very unusual sight; a group of programs here appear to be [dancing](https://www.youtube.com/watch?v=lyZQPjUT5B4&t=53).\n",
    "\n",
    "There are sixteen programs in total, named `a` through `p`. They start by standing in a line: `a` stands in position `0`, `b` stands in position `1`, and so on until `p`, which stands in position `15`.\n",
    "\n",
    "The programs' *dance* consists of a sequence of *dance moves*:\n",
    "\n",
    "* *Spin*, written `sX`, makes `X` programs move from the end to the front, but maintain their order otherwise. (For example, `s3` on `abcde` produces `cdeab`).\n",
    "* *Exchange*, written `xA/B`, makes the programs at positions `A` and `B` swap places.\n",
    "* *Partner*, written `pA/B`, makes the programs named `A` and `B` swap places.\n",
    "\n",
    "For example, with only five programs standing in a line (`abcde`), they could do the following dance:\n",
    "\n",
    "* `s1`, a spin of size `1`: `eabcd`.\n",
    "* `x3/4`, swapping the last two programs: `eabdc`.\n",
    "* `pe/b`, swapping programs `e` and `b`: `baedc`.\n",
    "\n",
    "After finishing their dance, the programs end up in order `baedc`.\n",
    "\n",
    "You watch the dance for a while and record their dance moves (your puzzle input). In what order are the programs standing after their dance?"
   ]
  }
 ],
 "metadata": {
  "kernelspec": {
   "display_name": "Python 3",
   "language": "python",
   "name": "python3"
  },
  "language_info": {
   "codemirror_mode": {
    "name": "ipython",
    "version": 3
   },
   "file_extension": ".py",
   "mimetype": "text/x-python",
   "name": "python",
   "nbconvert_exporter": "python",
   "pygments_lexer": "ipython3",
   "version": "3.5.2"
  }
 },
 "nbformat": 4,
 "nbformat_minor": 2
}
