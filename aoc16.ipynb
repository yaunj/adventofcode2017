{
 "cells": [
  {
   "cell_type": "markdown",
   "metadata": {},
   "source": [
    "# Day 16: Permutation Promenade\n",
    "\n",
    "You come upon a very unusual sight; a group of programs here appear to be [dancing](https://www.youtube.com/watch?v=lyZQPjUT5B4&t=53).\n",
    "\n",
    "There are sixteen programs in total, named `a` through `p`. They start by standing in a line: `a` stands in position `0`, `b` stands in position `1`, and so on until `p`, which stands in position `15`.\n",
    "\n",
    "The programs' *dance* consists of a sequence of *dance moves*:\n",
    "\n",
    "* *Spin*, written `sX`, makes `X` programs move from the end to the front, but maintain their order otherwise. (For example, `s3` on `abcde` produces `cdeab`).\n",
    "* *Exchange*, written `xA/B`, makes the programs at positions `A` and `B` swap places.\n",
    "* *Partner*, written `pA/B`, makes the programs named `A` and `B` swap places.\n",
    "\n",
    "For example, with only five programs standing in a line (`abcde`), they could do the following dance:\n",
    "\n",
    "* `s1`, a spin of size `1`: `eabcd`.\n",
    "* `x3/4`, swapping the last two programs: `eabdc`.\n",
    "* `pe/b`, swapping programs `e` and `b`: `baedc`.\n",
    "\n",
    "After finishing their dance, the programs end up in order `baedc`.\n",
    "\n",
    "You watch the dance for a while and record their dance moves (your puzzle input). In what order are the programs standing after their dance?"
   ]
  },
  {
   "cell_type": "markdown",
   "metadata": {},
   "source": [
    "## Solution to part 1\n",
    "\n",
    "First, lets define the programs for the challenge, and the test case, as well as get the dance moves for the challenge and the test case:"
   ]
  },
  {
   "cell_type": "code",
   "execution_count": 1,
   "metadata": {
    "collapsed": true
   },
   "outputs": [],
   "source": [
    "programs = list(\"abcdefghijklmnop\")\n",
    "challenge = open('input/day16.txt').read().strip().split(',')\n",
    "\n",
    "test_programs = list(\"abcde\")\n",
    "test_case = ['s1', 'x3/4', 'pe/b']"
   ]
  },
  {
   "cell_type": "markdown",
   "metadata": {},
   "source": [
    "Then I created a simple state machine to represent the dance:"
   ]
  },
  {
   "cell_type": "code",
   "execution_count": 2,
   "metadata": {
    "collapsed": true
   },
   "outputs": [],
   "source": [
    "class Dance:\n",
    "    def __init__(self, programs, moves):\n",
    "        self.programs = programs\n",
    "        self.moves = moves\n",
    "\n",
    "    def spin(self, offset):\n",
    "        self.programs = self.programs[-offset:] + self.programs[:-offset]\n",
    "\n",
    "    def exchange(self, pos_a, pos_b):\n",
    "        self.programs[pos_a], self.programs[pos_b] = self.programs[pos_b], self.programs[pos_a]\n",
    "\n",
    "    def partner(self, a, b):\n",
    "        pos_a, pos_b = self.programs.index(a), self.programs.index(b)\n",
    "        self.exchange(pos_a, pos_b)\n",
    "\n",
    "    def dance(self):\n",
    "        for move in self.moves:\n",
    "            if move.startswith('s'):\n",
    "                self.spin(int(move[1:]))\n",
    "            elif move.startswith('x'):\n",
    "                a, b = list(int(x) for x in move[1:].split('/'))\n",
    "                self.exchange(a, b)\n",
    "            elif move.startswith('p'):\n",
    "                a, b = move[1:].split('/')\n",
    "                self.partner(a, b)"
   ]
  },
  {
   "cell_type": "markdown",
   "metadata": {},
   "source": [
    "I then ran the test,"
   ]
  },
  {
   "cell_type": "code",
   "execution_count": 3,
   "metadata": {
    "collapsed": true
   },
   "outputs": [],
   "source": [
    "test_dance = Dance(test_programs, test_case)\n",
    "test_dance.dance()\n",
    "assert test_dance.programs == list('baedc')"
   ]
  },
  {
   "cell_type": "markdown",
   "metadata": {},
   "source": [
    "and then I computed the solution for part 1:"
   ]
  },
  {
   "cell_type": "code",
   "execution_count": 4,
   "metadata": {
    "collapsed": false
   },
   "outputs": [
    {
     "name": "stdout",
     "output_type": "stream",
     "text": [
      "iabmedjhclofgknp\n"
     ]
    }
   ],
   "source": [
    "dance = Dance(programs[:], challenge)\n",
    "dance.dance()\n",
    "print(''.join(dance.programs))"
   ]
  },
  {
   "cell_type": "markdown",
   "metadata": {},
   "source": [
    "# Part Two\n",
    "\n",
    "Now that you're starting to get a feel for the dance moves, you turn your attention to *the dance as a whole*.\n",
    "\n",
    "Keeping the positions they ended up in from their previous dance, the programs perform it again and again: including the first dance, a total of *one billion* (`1000000000`) times.\n",
    "\n",
    "In the example above, their second dance would *begin* with the order `baedc`, and use the same dance moves:\n",
    "\n",
    "* `s1`, a spin of size `1`: `cbaed`.\n",
    "* `x3/4`, swapping the last two programs: `cbade`.\n",
    "* `pe/b`, swapping programs `e` and `b`: `ceadb`.\n",
    "\n",
    "*In what order are the programs standing* after their billion dances?"
   ]
  },
  {
   "cell_type": "markdown",
   "metadata": {},
   "source": [
    "## Solution to part 2\n",
    "\n",
    "Unfortunately, while the previous solution works well for part 1, it takes 50ms to complete. Multiplying this with one billion suggests a solution time of about 579 days. :(\n",
    "\n",
    "It seems the solution is to look for cycles in the dance routine.\n",
    "\n",
    "I had to sneak a look at some solutions in order to get this."
   ]
  },
  {
   "cell_type": "code",
   "execution_count": 5,
   "metadata": {
    "collapsed": true
   },
   "outputs": [],
   "source": [
    "def part2(programs, moves, repeat=1000000000):\n",
    "    dance = Dance(programs, moves)\n",
    "    memo = []\n",
    "\n",
    "    for i in range(repeat):\n",
    "        state = ''.join(dance.programs)\n",
    "\n",
    "        if state in memo:\n",
    "            return memo[repeat % i]\n",
    "\n",
    "        memo.append(state)\n",
    "        dance.dance()"
   ]
  },
  {
   "cell_type": "code",
   "execution_count": 6,
   "metadata": {
    "collapsed": false
   },
   "outputs": [
    {
     "data": {
      "text/plain": [
       "'oildcmfeajhbpngk'"
      ]
     },
     "execution_count": 6,
     "metadata": {},
     "output_type": "execute_result"
    }
   ],
   "source": [
    "part2(programs[:], challenge)"
   ]
  }
 ],
 "metadata": {
  "kernelspec": {
   "display_name": "Python 3",
   "language": "python",
   "name": "python3"
  },
  "language_info": {
   "codemirror_mode": {
    "name": "ipython",
    "version": 3
   },
   "file_extension": ".py",
   "mimetype": "text/x-python",
   "name": "python",
   "nbconvert_exporter": "python",
   "pygments_lexer": "ipython3",
   "version": "3.5.3"
  }
 },
 "nbformat": 4,
 "nbformat_minor": 2
}
