{
 "cells": [
  {
   "cell_type": "markdown",
   "metadata": {},
   "source": [
    "## Day 5: A Maze of Twisty Trampolines, All Alike\n",
    "\n",
    "An urgent interrupt arrives from the CPU: it's trapped in a maze of jump instructions, and it would like assistance from any programs with spare cycles to help find the exit.\n",
    "\n",
    "The message includes a list of the offsets for each jump. Jumps are relative: -1 moves to the previous instruction, and 2 skips the next one. Start at the first instruction in the list. The goal is to follow the jumps until one leads outside the list.\n",
    "\n",
    "In addition, these instructions are a little strange; after each jump, the offset of that instruction increases by 1. So, if you come across an offset of 3, you would move three instructions forward, but change it to a 4 for the next time it is encountered.\n",
    "\n",
    "For example, consider the following list of jump offsets:\n",
    "\n",
    "    0\n",
    "    3\n",
    "    0\n",
    "    1\n",
    "    -3\n",
    "\n",
    "Positive jumps (\"forward\") move downward; negative jumps move upward. For legibility in this example, these offset values will be written all on one line, with the current instruction marked in parentheses. The following steps would be taken before an exit is found:\n",
    "\n",
    "*    (0) 3  0  1  -3  - before we have taken any steps.\n",
    "*    (1) 3  0  1  -3  - jump with offset 0 (that is, don't jump at all). Fortunately, the instruction is then incremented to 1.\n",
    "*     2 (3) 0  1  -3  - step forward because of the instruction we just modified. The first instruction is incremented again, now to 2.\n",
    "*     2  4  0  1 (-3) - jump all the way to the end; leave a 4 behind.\n",
    "*     2 (4) 0  1  -2  - go back to where we just were; increment -3 to -2.\n",
    "*     2  5  0  1  -2  - jump 4 steps forward, escaping the maze.\n",
    "\n",
    "In this example, the exit is reached in 5 steps.\n",
    "\n",
    "How many steps does it take to reach the exit?"
   ]
  },
  {
   "cell_type": "code",
   "execution_count": 18,
   "metadata": {
    "collapsed": true
   },
   "outputs": [],
   "source": [
    "program = list(map(int, open('input/day5.txt').readlines()))\n",
    "test_program = [0, 3, 0, 1, -3]"
   ]
  },
  {
   "cell_type": "code",
   "execution_count": 19,
   "metadata": {
    "collapsed": false
   },
   "outputs": [],
   "source": [
    "class Computer:\n",
    "    def __init__(self, program):\n",
    "        self.program = program\n",
    "        self.eip = 0\n",
    "        self.size = len(program)\n",
    "\n",
    "    def jmp(self):\n",
    "        instruction = self.program[self.eip]\n",
    "        self.program[self.eip] += 1\n",
    "        self.eip += instruction\n",
    "        \n",
    "    def run(self):\n",
    "        instructions = 0\n",
    "        \n",
    "        while 0 <= self.eip < self.size:\n",
    "            instructions += 1\n",
    "            self.jmp()\n",
    "        \n",
    "        return instructions\n",
    "    \n",
    "assert Computer(test_program[:]).run() == 5"
   ]
  },
  {
   "cell_type": "code",
   "execution_count": 20,
   "metadata": {
    "collapsed": false
   },
   "outputs": [
    {
     "data": {
      "text/plain": [
       "364539"
      ]
     },
     "execution_count": 20,
     "metadata": {},
     "output_type": "execute_result"
    }
   ],
   "source": [
    "Computer(program[:]).run()"
   ]
  },
  {
   "cell_type": "markdown",
   "metadata": {},
   "source": [
    "## Part Two\n",
    "\n",
    "Now, the jumps are even stranger: after each jump, if the offset was three or more, instead decrease it by 1. Otherwise, increase it by 1 as before.\n",
    "\n",
    "Using this rule with the above example, the process now takes 10 steps, and the offset values after finding the exit are left as 2 3 2 3 -1.\n",
    "\n",
    "How many steps does it now take to reach the exit?"
   ]
  },
  {
   "cell_type": "code",
   "execution_count": 21,
   "metadata": {
    "collapsed": false
   },
   "outputs": [],
   "source": [
    "class ComputerTwo(Computer):\n",
    "    def jmp(self):\n",
    "        instruction = self.program[self.eip]\n",
    "\n",
    "        if instruction >= 3:\n",
    "            self.program[self.eip] -= 1\n",
    "        else:\n",
    "            self.program[self.eip] += 1\n",
    "\n",
    "        self.eip += instruction\n",
    "        \n",
    "assert ComputerTwo(test_program[:]).run() == 10"
   ]
  },
  {
   "cell_type": "code",
   "execution_count": 22,
   "metadata": {
    "collapsed": false
   },
   "outputs": [
    {
     "data": {
      "text/plain": [
       "27477714"
      ]
     },
     "execution_count": 22,
     "metadata": {},
     "output_type": "execute_result"
    }
   ],
   "source": [
    "ComputerTwo(program[:]).run()"
   ]
  }
 ],
 "metadata": {
  "kernelspec": {
   "display_name": "Python 3",
   "language": "python",
   "name": "python3"
  },
  "language_info": {
   "codemirror_mode": {
    "name": "ipython",
    "version": 3
   },
   "file_extension": ".py",
   "mimetype": "text/x-python",
   "name": "python",
   "nbconvert_exporter": "python",
   "pygments_lexer": "ipython3",
   "version": "3.5.3"
  }
 },
 "nbformat": 4,
 "nbformat_minor": 2
}
