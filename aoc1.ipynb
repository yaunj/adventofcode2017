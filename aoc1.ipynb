{
 "cells": [
  {
   "cell_type": "markdown",
   "metadata": {},
   "source": [
    "The captcha requires you to review a sequence of digits (your puzzle input) and find the sum of all digits that match the next digit in the list. The list is circular, so the digit after the last digit is the first digit in the list.\n",
    "\n",
    "For example:\n",
    "\n",
    "* 1122 produces a sum of 3 (1 + 2) because the first digit (1) matches the second digit and the third digit (2) matches the fourth digit.\n",
    "* 1111 produces 4 because each digit (all 1) matches the next.\n",
    "* 1234 produces 0 because no digit matches the next.\n",
    "* 91212129 produces 9 because the only digit that matches the next one is the last digit, 9."
   ]
  },
  {
   "cell_type": "code",
   "execution_count": 46,
   "metadata": {
    "collapsed": true
   },
   "outputs": [],
   "source": [
    "digits = open('day1.txt').read().strip()"
   ]
  },
  {
   "cell_type": "code",
   "execution_count": 47,
   "metadata": {
    "collapsed": true
   },
   "outputs": [],
   "source": [
    "def solve(sequence):\n",
    "    sum = 0\n",
    "    for i, digit in enumerate(sequence):\n",
    "        digit = int(digit)\n",
    "        next_digit = int(sequence[(i + 1) % len(sequence)])\n",
    "        if digit == next_digit:\n",
    "            sum += digit\n",
    "    return sum"
   ]
  },
  {
   "cell_type": "code",
   "execution_count": 48,
   "metadata": {
    "collapsed": false
   },
   "outputs": [],
   "source": [
    "assert solve(\"1122\") == 3\n",
    "assert solve(\"1111\") == 4\n",
    "assert solve(\"1234\") == 0\n",
    "assert solve(\"91212129\") == 9"
   ]
  },
  {
   "cell_type": "code",
   "execution_count": 49,
   "metadata": {
    "collapsed": false
   },
   "outputs": [
    {
     "data": {
      "text/plain": [
       "1144"
      ]
     },
     "execution_count": 49,
     "metadata": {},
     "output_type": "execute_result"
    }
   ],
   "source": [
    "solve(digits)"
   ]
  },
  {
   "cell_type": "markdown",
   "metadata": {},
   "source": [
    "Now, instead of considering the next digit, it wants you to consider the digit halfway around the circular list. That is, if your list contains 10 items, only include a digit in your sum if the digit 10/2 = 5 steps forward matches it. Fortunately, your list has an even number of elements.\n",
    "\n",
    "For example:\n",
    "\n",
    "*    1212 produces 6: the list contains 4 items, and all four digits match the digit 2 items ahead.\n",
    "*    1221 produces 0, because every comparison is between a 1 and a 2.\n",
    "*    123425 produces 4, because both 2s match each other, but no other digit has a match.\n",
    "*    123123 produces 12.\n",
    "*    12131415 produces 4."
   ]
  },
  {
   "cell_type": "code",
   "execution_count": 50,
   "metadata": {
    "collapsed": true
   },
   "outputs": [],
   "source": [
    "def solve2(sequence):\n",
    "    sum = 0\n",
    "    size = len(sequence)\n",
    "    halfway = int(size / 2)\n",
    "    for i, digit in enumerate(sequence):\n",
    "        offset = (i + halfway) % size\n",
    "        a = int(digit)\n",
    "        b = int(sequence[offset])\n",
    "        \n",
    "        if a == b:\n",
    "            sum += a\n",
    "    \n",
    "    return sum"
   ]
  },
  {
   "cell_type": "code",
   "execution_count": 51,
   "metadata": {
    "collapsed": false
   },
   "outputs": [],
   "source": [
    "assert solve2(\"1212\") == 6\n",
    "assert solve2(\"1221\") == 0\n",
    "assert solve2(\"123425\") == 4\n",
    "assert solve2(\"123123\") == 12\n",
    "assert solve2(\"12131415\") == 4"
   ]
  },
  {
   "cell_type": "code",
   "execution_count": 52,
   "metadata": {
    "collapsed": false
   },
   "outputs": [
    {
     "data": {
      "text/plain": [
       "1194"
      ]
     },
     "execution_count": 52,
     "metadata": {},
     "output_type": "execute_result"
    }
   ],
   "source": [
    "solve2(digits)"
   ]
  }
 ],
 "metadata": {
  "kernelspec": {
   "display_name": "Python 3",
   "language": "python",
   "name": "python3"
  },
  "language_info": {
   "codemirror_mode": {
    "name": "ipython",
    "version": 3
   },
   "file_extension": ".py",
   "mimetype": "text/x-python",
   "name": "python",
   "nbconvert_exporter": "python",
   "pygments_lexer": "ipython3",
   "version": "3.5.2"
  }
 },
 "nbformat": 4,
 "nbformat_minor": 2
}
