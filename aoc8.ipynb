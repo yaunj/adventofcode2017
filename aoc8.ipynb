{
 "cells": [
  {
   "cell_type": "markdown",
   "metadata": {},
   "source": [
    "## Day 8: I Heard You Like Registers\n",
    "\n",
    "You receive a signal directly from the CPU. Because of your recent assistance with jump instructions, it would like you to compute the result of a series of unusual register instructions.\n",
    "\n",
    "Each instruction consists of several parts: the register to modify, whether to increase or decrease that register's value, the amount by which to increase or decrease it, and a condition. If the condition fails, skip the instruction without modifying the register. The registers all start at 0. The instructions look like this:\n",
    "\n",
    "    b inc 5 if a > 1\n",
    "    a inc 1 if b < 5\n",
    "    c dec -10 if a >= 1\n",
    "    c inc -20 if c == 10\n",
    "\n",
    "These instructions would be processed as follows:\n",
    "\n",
    "* Because a starts at 0, it is not greater than 1, and so b is not modified.\n",
    "* a is increased by 1 (to 1) because b is less than 5 (it is 0).\n",
    "* c is decreased by -10 (to 10) because a is now greater than or equal to 1 (it is 1).\n",
    "* c is increased by -20 (to -10) because c is equal to 10.\n",
    "\n",
    "After this process, the largest value in any register is 1.\n",
    "\n",
    "You might also encounter <= (less than or equal to) or != (not equal to). However, the CPU doesn't have the bandwidth to tell you what all the registers are named, and leaves that to you to determine.\n",
    "\n",
    "What is the largest value in any register after completing the instructions in your puzzle input?"
   ]
  },
  {
   "cell_type": "code",
   "execution_count": 1,
   "metadata": {
    "collapsed": true
   },
   "outputs": [],
   "source": [
    "testcase = \"\"\"b inc 5 if a > 1\n",
    "a inc 1 if b < 5\n",
    "c dec -10 if a >= 1\n",
    "c inc -20 if c == 10\"\"\".split('\\n')\n",
    "get_input = lambda: open('day8.txt')"
   ]
  },
  {
   "cell_type": "code",
   "execution_count": 2,
   "metadata": {
    "collapsed": true
   },
   "outputs": [],
   "source": [
    "from collections import defaultdict\n",
    "import operator\n",
    "\n",
    "operations = {\n",
    "    'inc': operator.add,\n",
    "    'dec': operator.sub,\n",
    "    '==': operator.eq,\n",
    "    '!=': operator.ne,\n",
    "    '<': operator.lt,\n",
    "    '>': operator.gt,\n",
    "    '<=': operator.le,\n",
    "    '>=': operator.ge,\n",
    "}\n",
    "\n",
    "class Computer:\n",
    "    def __init__(self):\n",
    "        self.reg = defaultdict(int)\n",
    "    \n",
    "    def run(self, program):\n",
    "        for line in program:\n",
    "            reg, op, val, _, other, cmp, o_val = line.strip().split()\n",
    "            \n",
    "            val, o_val = int(val), int(o_val)\n",
    "            \n",
    "            compare = operations[cmp]\n",
    "            operation = operations[op]\n",
    "            \n",
    "            if compare(self.reg[other], o_val):\n",
    "                self.reg[reg] = operation(self.reg[reg], val)\n",
    "    \n",
    "    def current_max(self):\n",
    "        return max(self.reg.values())"
   ]
  },
  {
   "cell_type": "code",
   "execution_count": 3,
   "metadata": {
    "collapsed": false
   },
   "outputs": [],
   "source": [
    "test_run = Computer()\n",
    "test_run.run(testcase)\n",
    "assert test_run.current_max() == 1"
   ]
  },
  {
   "cell_type": "code",
   "execution_count": 4,
   "metadata": {
    "collapsed": false
   },
   "outputs": [
    {
     "data": {
      "text/plain": [
       "4877"
      ]
     },
     "execution_count": 4,
     "metadata": {},
     "output_type": "execute_result"
    }
   ],
   "source": [
    "solver = Computer()\n",
    "solver.run(get_input())\n",
    "solver.current_max()"
   ]
  },
  {
   "cell_type": "markdown",
   "metadata": {},
   "source": [
    "## Part Two\n",
    "\n",
    "To be safe, the CPU also needs to know the highest value held in any register during this process so that it can decide how much memory to allocate to these operations. For example, in the above instructions, the highest value ever held was 10 (in register c after the third instruction was evaluated)."
   ]
  },
  {
   "cell_type": "code",
   "execution_count": 5,
   "metadata": {
    "collapsed": true
   },
   "outputs": [],
   "source": [
    "class ComputerWithMax(Computer):\n",
    "    def __init__(self):\n",
    "        super().__init__()\n",
    "        self.max = 0\n",
    "\n",
    "    def run(self, program):\n",
    "        for line in program:\n",
    "            reg, op, val, _, other, cmp, o_val = line.strip().split()\n",
    "            \n",
    "            val, o_val = int(val), int(o_val)\n",
    "            \n",
    "            compare = operations[cmp]\n",
    "            operation = operations[op]\n",
    "            \n",
    "            if compare(self.reg[other], o_val):\n",
    "                self.reg[reg] = operation(self.reg[reg], val)\n",
    "                \n",
    "                if self.reg[reg] > self.max:\n",
    "                    self.max = self.reg[reg]"
   ]
  },
  {
   "cell_type": "code",
   "execution_count": 6,
   "metadata": {
    "collapsed": false
   },
   "outputs": [],
   "source": [
    "test_run = ComputerWithMax()\n",
    "test_run.run(testcase)\n",
    "assert test_run.max == 10"
   ]
  },
  {
   "cell_type": "code",
   "execution_count": 7,
   "metadata": {
    "collapsed": false
   },
   "outputs": [
    {
     "data": {
      "text/plain": [
       "5471"
      ]
     },
     "execution_count": 7,
     "metadata": {},
     "output_type": "execute_result"
    }
   ],
   "source": [
    "solver = ComputerWithMax()\n",
    "solver.run(get_input())\n",
    "solver.max"
   ]
  }
 ],
 "metadata": {
  "kernelspec": {
   "display_name": "Python 3",
   "language": "python",
   "name": "python3"
  },
  "language_info": {
   "codemirror_mode": {
    "name": "ipython",
    "version": 3
   },
   "file_extension": ".py",
   "mimetype": "text/x-python",
   "name": "python",
   "nbconvert_exporter": "python",
   "pygments_lexer": "ipython3",
   "version": "3.5.2"
  }
 },
 "nbformat": 4,
 "nbformat_minor": 2
}
