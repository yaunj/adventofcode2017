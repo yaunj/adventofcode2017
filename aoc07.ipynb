{
 "cells": [
  {
   "cell_type": "markdown",
   "metadata": {},
   "source": [
    "## Day 7: Recursive Circus\n",
    "\n",
    "Wandering further through the circuits of the computer, you come upon a tower of programs that have gotten themselves into a bit of trouble. A recursive algorithm has gotten out of hand, and now they're balanced precariously in a large tower.\n",
    "\n",
    "One program at the bottom supports the entire tower. It's holding a large disc, and on the disc are balanced several more sub-towers. At the bottom of these sub-towers, standing on the bottom disc, are other programs, each holding their own disc, and so on. At the very tops of these sub-sub-sub-...-towers, many programs stand simply keeping the disc below them balanced but with no disc of their own.\n",
    "\n",
    "You offer to help, but first you need to understand the structure of these towers. You ask each program to yell out their name, their weight, and (if they're holding a disc) the names of the programs immediately above them balancing on that disc. You write this information down (your puzzle input). Unfortunately, in their panic, they don't do this in an orderly fashion; by the time you're done, you're not sure which program gave which information.\n",
    "\n",
    "For example, if your list is the following:\n",
    "\n",
    "    pbga (66)\n",
    "    xhth (57)\n",
    "    ebii (61)\n",
    "    havc (66)\n",
    "    ktlj (57)\n",
    "    fwft (72) -> ktlj, cntj, xhth\n",
    "    qoyq (66)\n",
    "    padx (45) -> pbga, havc, qoyq\n",
    "    tknk (41) -> ugml, padx, fwft\n",
    "    jptl (61)\n",
    "    ugml (68) -> gyxo, ebii, jptl\n",
    "    gyxo (61)\n",
    "    cntj (57)\n",
    "\n",
    "...then you would be able to recreate the structure of the towers that looks like this:\n",
    "\n",
    "                    gyxo\n",
    "                  /     \n",
    "             ugml - ebii\n",
    "           /      \\     \n",
    "          |         jptl\n",
    "          |        \n",
    "          |         pbga\n",
    "         /        /\n",
    "    tknk --- padx - havc\n",
    "         \\        \\\n",
    "          |         qoyq\n",
    "          |             \n",
    "          |         ktlj\n",
    "           \\      /     \n",
    "             fwft - cntj\n",
    "                  \\     \n",
    "                    xhth\n",
    "\n",
    "In this example, tknk is at the bottom of the tower (the bottom program), and is holding up ugml, padx, and fwft. Those programs are, in turn, holding up other programs; in this example, none of those programs are holding up any other programs, and are all the tops of their own towers. (The actual tower balancing in front of you is much larger.)\n",
    "\n",
    "Before you're ready to help them, you need to make sure your information is correct. What is the name of the bottom program?"
   ]
  },
  {
   "cell_type": "code",
   "execution_count": 1,
   "metadata": {
    "collapsed": true
   },
   "outputs": [],
   "source": [
    "import re\n",
    "\n",
    "node_matcher = re.compile(r'(?P<name>\\w+) \\((?P<weight>\\d+)\\)').match"
   ]
  },
  {
   "cell_type": "code",
   "execution_count": 2,
   "metadata": {
    "collapsed": false
   },
   "outputs": [],
   "source": [
    "class Node:\n",
    "    def __init__(self, name, weight, children=None):\n",
    "        self.name, self.weight, self.children = name, weight, []\n",
    "        if children:\n",
    "            self.children = children\n",
    "            \n",
    "    def __repr__(self):\n",
    "        return \"Node({}, {}, {})\".format(\n",
    "            repr(self.name),\n",
    "            repr(self.weight),\n",
    "            repr(self.children)\n",
    "        )"
   ]
  },
  {
   "cell_type": "code",
   "execution_count": 3,
   "metadata": {
    "collapsed": true
   },
   "outputs": [],
   "source": [
    "def parse_input(lines):\n",
    "    nodes = {}\n",
    "\n",
    "    for line in lines:\n",
    "        parts = line.strip().split(' -> ')\n",
    "        name, weight = node_matcher(parts[0]).groups()\n",
    "        weight = int(weight)\n",
    "        \n",
    "        node = Node(name, weight)\n",
    "        \n",
    "        if len(parts) > 1:\n",
    "            node.children = parts[1].split(', ')\n",
    "        \n",
    "        nodes[name] = node\n",
    "    \n",
    "    for name, node in nodes.items():\n",
    "        for i, child in enumerate(node.children):\n",
    "            node.children[i] = nodes[child]\n",
    "    \n",
    "    return nodes"
   ]
  },
  {
   "cell_type": "code",
   "execution_count": 4,
   "metadata": {
    "collapsed": true
   },
   "outputs": [],
   "source": [
    "test_input = \"\"\"pbga (66)\n",
    "xhth (57)\n",
    "ebii (61)\n",
    "havc (66)\n",
    "ktlj (57)\n",
    "fwft (72) -> ktlj, cntj, xhth\n",
    "qoyq (66)\n",
    "padx (45) -> pbga, havc, qoyq\n",
    "tknk (41) -> ugml, padx, fwft\n",
    "jptl (61)\n",
    "ugml (68) -> gyxo, ebii, jptl\n",
    "gyxo (61)\n",
    "cntj (57)\"\"\""
   ]
  },
  {
   "cell_type": "code",
   "execution_count": 5,
   "metadata": {
    "collapsed": false
   },
   "outputs": [],
   "source": [
    "def build_tree(nodes):    \n",
    "    while len(nodes) > 1:\n",
    "        remove = set()\n",
    "        \n",
    "        for name, node in nodes.items():\n",
    "            if not node.children:\n",
    "                remove.add(name)\n",
    "            else:\n",
    "                for child in node.children:\n",
    "                    if child.name in nodes:\n",
    "                        remove.add(child.name)\n",
    "\n",
    "        for name in remove:\n",
    "            del(nodes[name])\n",
    "\n",
    "    return nodes[next(iter(nodes))]"
   ]
  },
  {
   "cell_type": "code",
   "execution_count": 6,
   "metadata": {
    "collapsed": false
   },
   "outputs": [
    {
     "data": {
      "text/plain": [
       "Node('tknk', 41, [Node('ugml', 68, [Node('gyxo', 61, []), Node('ebii', 61, []), Node('jptl', 61, [])]), Node('padx', 45, [Node('pbga', 66, []), Node('havc', 66, []), Node('qoyq', 66, [])]), Node('fwft', 72, [Node('ktlj', 57, []), Node('cntj', 57, []), Node('xhth', 57, [])])])"
      ]
     },
     "execution_count": 6,
     "metadata": {},
     "output_type": "execute_result"
    }
   ],
   "source": [
    "test_nodes = parse_input(test_input.split('\\n'))\n",
    "test_root = build_tree(test_nodes)\n",
    "assert test_root.name == 'tknk'\n",
    "test_root"
   ]
  },
  {
   "cell_type": "markdown",
   "metadata": {},
   "source": [
    "Now: let's check the input:"
   ]
  },
  {
   "cell_type": "code",
   "execution_count": 7,
   "metadata": {
    "collapsed": false
   },
   "outputs": [
    {
     "name": "stdout",
     "output_type": "stream",
     "text": [
      "bsfpjtc\n"
     ]
    }
   ],
   "source": [
    "node_list = parse_input(open('input/day7.txt'))\n",
    "root = build_tree(node_list)\n",
    "print(root.name)"
   ]
  },
  {
   "cell_type": "markdown",
   "metadata": {},
   "source": [
    "## Part Two\n",
    "\n",
    "The programs explain the situation: they can't get down. Rather, they could get down, if they weren't expending all of their energy trying to keep the tower balanced. Apparently, one program has the wrong weight, and until it's fixed, they're stuck here.\n",
    "\n",
    "For any program holding a disc, each program standing on that disc forms a sub-tower. Each of those sub-towers are supposed to be the same weight, or the disc itself isn't balanced. The weight of a tower is the sum of the weights of the programs in that tower.\n",
    "\n",
    "In the example above, this means that for ugml's disc to be balanced, gyxo, ebii, and jptl must all have the same weight, and they do: 61.\n",
    "\n",
    "However, for tknk to be balanced, each of the programs standing on its disc and all programs above it must each match. This means that the following sums must all be the same:\n",
    "\n",
    "    ugml + (gyxo + ebii + jptl) = 68 + (61 + 61 + 61) = 251\n",
    "    padx + (pbga + havc + qoyq) = 45 + (66 + 66 + 66) = 243\n",
    "    fwft + (ktlj + cntj + xhth) = 72 + (57 + 57 + 57) = 243\n",
    "\n",
    "As you can see, tknk's disc is unbalanced: ugml's stack is heavier than the other two. Even though the nodes above ugml are balanced, ugml itself is too heavy: it needs to be 8 units lighter for its stack to weigh 243 and keep the towers balanced. If this change were made, its weight would be 60.\n",
    "\n",
    "Given that exactly one program is the wrong weight, what would its weight need to be to balance the entire tower?"
   ]
  },
  {
   "cell_type": "code",
   "execution_count": 8,
   "metadata": {
    "collapsed": true
   },
   "outputs": [],
   "source": [
    "def node_print(node, indent=0):\n",
    "    print(\"{}{}\".format(' ' * indent, node.weight))\n",
    "    for child in node.children:\n",
    "        node_print(child, indent + 2)"
   ]
  },
  {
   "cell_type": "code",
   "execution_count": 9,
   "metadata": {
    "collapsed": false
   },
   "outputs": [],
   "source": [
    "def sum_weights(node):\n",
    "    return node.weight + sum(sum_weights(c) for c in node.children)"
   ]
  },
  {
   "cell_type": "code",
   "execution_count": 10,
   "metadata": {
    "collapsed": false
   },
   "outputs": [
    {
     "data": {
      "text/plain": [
       "529"
      ]
     },
     "execution_count": 10,
     "metadata": {},
     "output_type": "execute_result"
    }
   ],
   "source": [
    "from collections import defaultdict\n",
    "\n",
    "def find_unbalanced_node(node):\n",
    "    if not node.children:\n",
    "        return\n",
    "    \n",
    "    sums = defaultdict(list)\n",
    "    for child in node.children:\n",
    "        sums[sum_weights(child)].append(child)\n",
    "        \n",
    "    if len(sums) > 1:\n",
    "        # Get least common value\n",
    "        sorted_values = sorted(sums.values(), key=len)\n",
    "        \n",
    "        # lc = least common, lcv = least common value\n",
    "        # kind of stupid to sum the weights again, but meh\n",
    "        lc = sorted_values[0][0]\n",
    "        lcv = sum_weights(lc)\n",
    "        mc = sorted_values[1][0]\n",
    "        mcv = sum_weights(mc)\n",
    "        \n",
    "        res = find_unbalanced_node(lc)\n",
    "        if res:\n",
    "            return res\n",
    "        return abs(lc.weight - (lcv - mcv))\n",
    "\n",
    "find_unbalanced_node(root)"
   ]
  }
 ],
 "metadata": {
  "kernelspec": {
   "display_name": "Python 3",
   "language": "python",
   "name": "python3"
  },
  "language_info": {
   "codemirror_mode": {
    "name": "ipython",
    "version": 3
   },
   "file_extension": ".py",
   "mimetype": "text/x-python",
   "name": "python",
   "nbconvert_exporter": "python",
   "pygments_lexer": "ipython3",
   "version": "3.5.3"
  }
 },
 "nbformat": 4,
 "nbformat_minor": 2
}
