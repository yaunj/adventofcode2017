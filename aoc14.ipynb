{
 "cells": [
  {
   "cell_type": "markdown",
   "metadata": {},
   "source": [
    "# Day 14: Disk Defragmentation\n",
    "\n",
    "Suddenly, a scheduled job activates the system's [disk defragmenter](https://en.wikipedia.org/wiki/Defragmentation). Were the situation different, you might [sit and watch it for a while](https://www.youtube.com/watch?v=kPv1gQ5Rs8A&t=37), but today, you just don't have that kind of time. It's soaking up valuable system resources that are needed elsewhere, and so the only option is to help it finish its task as soon as possible.\n",
    "\n",
    "The disk in question consists of a 128x128 grid; each square of the grid is either *free* or *used*. On this disk, the state of the grid is tracked by the bits in a sequence of [knot hashes](aoc10.ipynb).\n",
    "\n",
    "A total of 128 knot hashes are calculated, each corresponding to a single row in the grid; each hash contains 128 bits which correspond to individual grid squares. Each bit of a hash indicates whether that square is *free* (`0`) or *used* (`1`).\n",
    "\n",
    "The hash inputs are a key string (your puzzle input), a dash, and a number from `0` to `127` corresponding to the row. For example, if your key string were `flqrgnkx`, then the first row would be given by the bits of the knot hash of `flqrgnkx-0`, the second row from the bits of the knot hash of `flqrgnkx-1`, and so on until the last row, `flqrgnkx-127`.\n",
    "\n",
    "The output of a knot hash is traditionally represented by 32 hexadecimal digits; each of these digits correspond to 4 bits, for a total of `4 * 32 = 128` bits. To convert to bits, turn each hexadecimal digit to its equivalent binary value, high-bit first: `0` becomes `0000`, `1` becomes `0001`, `e` becomes `1110`, `f` becomes `1111`, and so on; a hash that begins with `a0c2017`... in hexadecimal would begin with `10100000110000100000000101110000`... in binary.\n",
    "\n",
    "Continuing this process, the *first 8 rows and columns* for key `flqrgnkx` appear as follows, using `#` to denote used squares, and `.` to denote free ones:\n",
    "\n",
    "    ##.#.#..-->\n",
    "    .#.#.#.#   \n",
    "    ....#.#.   \n",
    "    #.#.##.#   \n",
    "    .##.#...   \n",
    "    ##..#..#   \n",
    "    .#...#..   \n",
    "    ##.#.##.-->\n",
    "    |      |   \n",
    "    V      V   \n",
    "\n",
    "In this example, `8108` squares are used across the entire 128x128 grid.\n",
    "\n",
    "Given your actual key string, *how many squares are used*?\n",
    "\n",
    "Your puzzle input is `nbysizxe`."
   ]
  },
  {
   "cell_type": "markdown",
   "metadata": {},
   "source": [
    "## Solution for part 1\n",
    "\n",
    "First, import code for day 10, since this contains an implementation of the knothash algorithm:"
   ]
  },
  {
   "cell_type": "code",
   "execution_count": 1,
   "metadata": {
    "collapsed": true
   },
   "outputs": [],
   "source": [
    "%run aoc10.ipynb"
   ]
  },
  {
   "cell_type": "markdown",
   "metadata": {},
   "source": [
    "Then, we create the necessary functions to convert the hexadecimal string to a binary string, and hash all 128 combinations of the key. At last a convenience function for counting the used squares."
   ]
  },
  {
   "cell_type": "code",
   "execution_count": 2,
   "metadata": {
    "collapsed": false
   },
   "outputs": [],
   "source": [
    "def hexstr2binstr(string):\n",
    "    return ''.join('{:04b}'.format(int(c, 16)) for c in string)\n",
    "\n",
    "def create_bitmap(key):\n",
    "    return [\n",
    "        hexstr2binstr(knothash(key + b'-' + str(i).encode('utf-8'))) for\n",
    "        i in range(128)\n",
    "    ]\n",
    "\n",
    "def sum_used(bitmap):\n",
    "    return sum(len(row.replace('0', '')) for row in bitmap)"
   ]
  },
  {
   "cell_type": "markdown",
   "metadata": {},
   "source": [
    "Test using the supplied example key: `flqrgnkx`\n",
    "\n",
    "Inspect the first 8 columns of the first 8 rows (to see if we're on the right track), and then sum all used squares to ensure we get the right sum."
   ]
  },
  {
   "cell_type": "code",
   "execution_count": 3,
   "metadata": {
    "collapsed": false
   },
   "outputs": [
    {
     "name": "stdout",
     "output_type": "stream",
     "text": [
      "##.#.#..\n",
      ".#.#.#.#\n",
      "....#.#.\n",
      "#.#.##.#\n",
      ".##.#...\n",
      "##..#..#\n",
      ".#...#..\n",
      "##.#.##.\n"
     ]
    }
   ],
   "source": [
    "testcase = create_bitmap(b'flqrgnkx')\n",
    "for row in testcase[:8]:\n",
    "    print(row[:8].replace('1', '#').replace('0', '.'))\n",
    "assert sum_used(testcase) == 8108"
   ]
  },
  {
   "cell_type": "markdown",
   "metadata": {},
   "source": [
    "Now we're ready to solve part 1 of the challenge:"
   ]
  },
  {
   "cell_type": "code",
   "execution_count": 4,
   "metadata": {
    "collapsed": false
   },
   "outputs": [
    {
     "data": {
      "text/plain": [
       "8216"
      ]
     },
     "execution_count": 4,
     "metadata": {},
     "output_type": "execute_result"
    }
   ],
   "source": [
    "challenge = create_bitmap(b'nbysizxe')\n",
    "sum_used(challenge)"
   ]
  }
 ],
 "metadata": {
  "kernelspec": {
   "display_name": "Python 3",
   "language": "python",
   "name": "python3"
  },
  "language_info": {
   "codemirror_mode": {
    "name": "ipython",
    "version": 3
   },
   "file_extension": ".py",
   "mimetype": "text/x-python",
   "name": "python",
   "nbconvert_exporter": "python",
   "pygments_lexer": "ipython3",
   "version": "3.5.3"
  }
 },
 "nbformat": 4,
 "nbformat_minor": 2
}
