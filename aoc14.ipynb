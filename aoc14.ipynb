{
 "cells": [
  {
   "cell_type": "markdown",
   "metadata": {},
   "source": [
    "# Day 14: Disk Defragmentation\n",
    "\n",
    "Suddenly, a scheduled job activates the system's [disk defragmenter](https://en.wikipedia.org/wiki/Defragmentation). Were the situation different, you might [sit and watch it for a while](https://www.youtube.com/watch?v=kPv1gQ5Rs8A&t=37), but today, you just don't have that kind of time. It's soaking up valuable system resources that are needed elsewhere, and so the only option is to help it finish its task as soon as possible.\n",
    "\n",
    "The disk in question consists of a 128x128 grid; each square of the grid is either *free* or *used*. On this disk, the state of the grid is tracked by the bits in a sequence of [knot hashes](aoc10.ipynb).\n",
    "\n",
    "A total of 128 knot hashes are calculated, each corresponding to a single row in the grid; each hash contains 128 bits which correspond to individual grid squares. Each bit of a hash indicates whether that square is *free* (`0`) or *used* (`1`).\n",
    "\n",
    "The hash inputs are a key string (your puzzle input), a dash, and a number from `0` to `127` corresponding to the row. For example, if your key string were `flqrgnkx`, then the first row would be given by the bits of the knot hash of `flqrgnkx-0`, the second row from the bits of the knot hash of `flqrgnkx-1`, and so on until the last row, `flqrgnkx-127`.\n",
    "\n",
    "The output of a knot hash is traditionally represented by 32 hexadecimal digits; each of these digits correspond to 4 bits, for a total of `4 * 32 = 128` bits. To convert to bits, turn each hexadecimal digit to its equivalent binary value, high-bit first: `0` becomes `0000`, `1` becomes `0001`, `e` becomes `1110`, `f` becomes `1111`, and so on; a hash that begins with `a0c2017`... in hexadecimal would begin with `10100000110000100000000101110000`... in binary.\n",
    "\n",
    "Continuing this process, the *first 8 rows and columns* for key `flqrgnkx` appear as follows, using `#` to denote used squares, and `.` to denote free ones:\n",
    "\n",
    "    ##.#.#..-->\n",
    "    .#.#.#.#   \n",
    "    ....#.#.   \n",
    "    #.#.##.#   \n",
    "    .##.#...   \n",
    "    ##..#..#   \n",
    "    .#...#..   \n",
    "    ##.#.##.-->\n",
    "    |      |   \n",
    "    V      V   \n",
    "\n",
    "In this example, `8108` squares are used across the entire 128x128 grid.\n",
    "\n",
    "Given your actual key string, *how many squares are used*?\n",
    "\n",
    "Your puzzle input is `nbysizxe`."
   ]
  },
  {
   "cell_type": "markdown",
   "metadata": {},
   "source": [
    "## Solution for part 1\n",
    "\n",
    "First, import code for day 10, since this contains an implementation of the knothash algorithm:"
   ]
  },
  {
   "cell_type": "code",
   "execution_count": 1,
   "metadata": {
    "collapsed": true
   },
   "outputs": [],
   "source": [
    "%run aoc10.ipynb"
   ]
  },
  {
   "cell_type": "markdown",
   "metadata": {},
   "source": [
    "Then, we create the necessary functions to convert the hexadecimal string to a binary string, and hash all 128 combinations of the key. At last a convenience function for counting the used squares."
   ]
  },
  {
   "cell_type": "code",
   "execution_count": 2,
   "metadata": {
    "collapsed": false
   },
   "outputs": [],
   "source": [
    "def hexstr2binstr(string):\n",
    "    return ''.join('{:04b}'.format(int(c, 16)) for c in string)\n",
    "\n",
    "def create_bitmap(key):\n",
    "    return [\n",
    "        hexstr2binstr(knothash(key + b'-' + str(i).encode('utf-8'))) for\n",
    "        i in range(128)\n",
    "    ]\n",
    "\n",
    "def sum_used(bitmap):\n",
    "    return sum(len(row.replace('0', '')) for row in bitmap)"
   ]
  },
  {
   "cell_type": "markdown",
   "metadata": {},
   "source": [
    "Test using the supplied example key: `flqrgnkx`\n",
    "\n",
    "Inspect the first 8 columns of the first 8 rows (to see if we're on the right track), and then sum all used squares to ensure we get the right sum."
   ]
  },
  {
   "cell_type": "code",
   "execution_count": 3,
   "metadata": {
    "collapsed": false
   },
   "outputs": [
    {
     "name": "stdout",
     "output_type": "stream",
     "text": [
      "##.#.#..\n",
      ".#.#.#.#\n",
      "....#.#.\n",
      "#.#.##.#\n",
      ".##.#...\n",
      "##..#..#\n",
      ".#...#..\n",
      "##.#.##.\n"
     ]
    }
   ],
   "source": [
    "testcase = create_bitmap(b'flqrgnkx')\n",
    "for row in testcase[:8]:\n",
    "    print(row[:8].replace('1', '#').replace('0', '.'))\n",
    "assert sum_used(testcase) == 8108"
   ]
  },
  {
   "cell_type": "markdown",
   "metadata": {},
   "source": [
    "Now we're ready to solve part 1 of the challenge:"
   ]
  },
  {
   "cell_type": "code",
   "execution_count": 4,
   "metadata": {
    "collapsed": false
   },
   "outputs": [
    {
     "data": {
      "text/plain": [
       "8216"
      ]
     },
     "execution_count": 4,
     "metadata": {},
     "output_type": "execute_result"
    }
   ],
   "source": [
    "challenge = create_bitmap(b'nbysizxe')\n",
    "sum_used(challenge)"
   ]
  },
  {
   "cell_type": "markdown",
   "metadata": {},
   "source": [
    "## Part Two\n",
    "\n",
    "Now, all the defragmenter needs to know is the number of *regions*. A region is a group of used *squares* that are all *adjacent*, not including diagonals. Every used square is in exactly one region: lone used squares form their own isolated regions, while several adjacent squares all count as a single region.\n",
    "\n",
    "In the example above, the following nine regions are visible, each marked with a distinct digit:\n",
    "\n",
    "    11.2.3..-->\n",
    "    .1.2.3.4   \n",
    "    ....5.6.   \n",
    "    7.8.55.9   \n",
    "    .88.5...   \n",
    "    88..5..8   \n",
    "    .8...8..   \n",
    "    88.8.88.-->\n",
    "    |      |   \n",
    "    V      V   \n",
    "\n",
    "Of particular interest is the region marked `8`; while it does not appear contiguous in this small view, all of the squares marked `8` are connected when considering the whole 128x128 grid. In total, in this example, `1242` regions are present.\n",
    "\n",
    "How many regions are present given your key string?"
   ]
  },
  {
   "cell_type": "code",
   "execution_count": 5,
   "metadata": {
    "collapsed": true
   },
   "outputs": [],
   "source": [
    "def neighbors_wo_diag(bitmap, r, c):\n",
    "    neigh = []\n",
    "    length = len(bitmap) - 1\n",
    "\n",
    "    if r > 0 and bitmap[r - 1][c] == '1':\n",
    "        neigh.append((r - 1, c))\n",
    "\n",
    "    if c > 0 and bitmap[r][c - 1] == '1':\n",
    "        neigh.append((r, c - 1))\n",
    "    if c < length and bitmap[r][c + 1] == '1':\n",
    "        neigh.append((r, c + 1))\n",
    "\n",
    "    if r < length and bitmap[r + 1][c] == '1':\n",
    "        neigh.append((r + 1, c))\n",
    "\n",
    "    return neigh\n",
    "\n",
    "def count_regions(bitmap):\n",
    "    regionmap = {}\n",
    "    count = 0\n",
    "    \n",
    "    for row, row_val in enumerate(bitmap):\n",
    "        for col, col_val in enumerate(row_val):\n",
    "            if bitmap[row][col] == '1':\n",
    "                neighbors = neighbors_wo_diag(bitmap, row, col)\n",
    "                \n",
    "                # Look for existing regions\n",
    "                if any(cell in regionmap for cell in neighbors):\n",
    "                    coords = [cell for cell in neighbors if cell in regionmap]\n",
    "                    region = regionmap[coords[0]]\n",
    "                else:\n",
    "                    count += 1\n",
    "                    region = count\n",
    "                \n",
    "                regionmap[(row, col)] = region\n",
    "                \n",
    "                # Update neighbors\n",
    "                for nrow, ncol in neighbors:\n",
    "                    regionmap[nrow, ncol] = region\n",
    "\n",
    "    return regionmap, count"
   ]
  },
  {
   "cell_type": "markdown",
   "metadata": {},
   "source": [
    "Then, run the test:"
   ]
  },
  {
   "cell_type": "code",
   "execution_count": 6,
   "metadata": {
    "collapsed": false
   },
   "outputs": [
    {
     "name": "stdout",
     "output_type": "stream",
     "text": [
      "  1|  1| . |  2| . |  3| . | . |\n",
      "--------------------------------\n",
      " . |  1| . |  2| . |  3| . |  4|\n",
      "--------------------------------\n",
      " . | . | . | . | 39| . | 40| . |\n",
      "--------------------------------\n",
      " 48| . | 49| . | 39| 39| . | 50|\n",
      "--------------------------------\n",
      " . | 49| 49| . | 39| . | . | . |\n",
      "--------------------------------\n",
      " 49| 49| . | . | 39| . | . | 68|\n",
      "--------------------------------\n",
      " . | 49| . | . | . | 81| . | . |\n",
      "--------------------------------\n",
      " 49| 49| . | 89| . | 81| 81| . |\n",
      "--------------------------------\n",
      " 49| 49| 89| 89| . | 81| 81| 81|\n",
      "--------------------------------\n"
     ]
    },
    {
     "data": {
      "text/plain": [
       "1652"
      ]
     },
     "execution_count": 6,
     "metadata": {},
     "output_type": "execute_result"
    }
   ],
   "source": [
    "mapping, count = count_regions(testcase)\n",
    "for row in range(9):\n",
    "    for col in range(8):\n",
    "        if (row, col) in mapping:\n",
    "            print('{: 3}|'.format(mapping[row, col]), end='')\n",
    "        else:\n",
    "            print(' . |', end='')\n",
    "    print()\n",
    "    print('-' * (4 * 8))\n",
    "\n",
    "count"
   ]
  },
  {
   "cell_type": "markdown",
   "metadata": {},
   "source": [
    "This yeilds the wrong result, as it's only considering the nearest neighbors when updating the region map. Let's try to update the neighbors by visiting all connected neighbors:"
   ]
  },
  {
   "cell_type": "code",
   "execution_count": 7,
   "metadata": {
    "collapsed": true
   },
   "outputs": [],
   "source": [
    "def update_mapping(bitmap, row, col, region, mapping):\n",
    "    mapping[row, col] = region\n",
    "    visit = neighbors_wo_diag(bitmap, row, col)\n",
    "    visited = set()\n",
    "    \n",
    "    while len(visit):\n",
    "        nrow, ncol = visit.pop()\n",
    "\n",
    "        if (nrow, ncol) in visited or (nrow, ncol) in mapping:\n",
    "            continue\n",
    "\n",
    "        visited.add((nrow, ncol))\n",
    "        mapping[nrow, ncol] = region\n",
    "        for orow, ocol in neighbors_wo_diag(bitmap, nrow, ncol):\n",
    "            if (orow, ocol) not in visited:\n",
    "                visit.append((orow, ocol))\n",
    "\n",
    "    return mapping\n",
    "\n",
    "\n",
    "def count_regions(bitmap):\n",
    "    regionmap = {}\n",
    "    count = 0\n",
    "    \n",
    "    for row, row_val in enumerate(bitmap):\n",
    "        for col, col_val in enumerate(row_val):\n",
    "            if bitmap[row][col] == '1':\n",
    "                neighbors = neighbors_wo_diag(bitmap, row, col)\n",
    "                \n",
    "                # Look for existing regions\n",
    "                if any(cell in regionmap for cell in neighbors):\n",
    "                    coords = [cell for cell in neighbors if cell in regionmap]\n",
    "                    region = regionmap[coords[0]]\n",
    "                else:\n",
    "                    count += 1\n",
    "                    region = count\n",
    "                \n",
    "                regionmap.update(update_mapping(bitmap, row, col, region, regionmap))\n",
    "                \n",
    "                # Update neighbors\n",
    "                for nrow, ncol in neighbors:\n",
    "                    regionmap[nrow, ncol] = region\n",
    "\n",
    "    return regionmap, count"
   ]
  },
  {
   "cell_type": "markdown",
   "metadata": {},
   "source": [
    "Run the test, to see if we're getting the expected results:"
   ]
  },
  {
   "cell_type": "code",
   "execution_count": 8,
   "metadata": {
    "collapsed": false
   },
   "outputs": [
    {
     "name": "stdout",
     "output_type": "stream",
     "text": [
      "  1|  1| . |  2| . |  3| . | . |\n",
      "--------------------------------\n",
      " . |  1| . |  2| . |  3| . |  4|\n",
      "--------------------------------\n",
      " . | . | . | . | 30| . | 31| . |\n",
      "--------------------------------\n",
      " 38| . |  5| . | 30| 30| . | 39|\n",
      "--------------------------------\n",
      " . |  5|  5| . | 30| . | . | . |\n",
      "--------------------------------\n",
      "  5|  5| . | . | 30| . | . |  5|\n",
      "--------------------------------\n",
      " . |  5| . | . | . |  5| . | . |\n",
      "--------------------------------\n",
      "  5|  5| . |  5| . |  5|  5| . |\n",
      "--------------------------------\n",
      "  5|  5|  5|  5| . |  5|  5|  5|\n",
      "--------------------------------\n"
     ]
    }
   ],
   "source": [
    "mapping, count = count_regions(testcase)\n",
    "for row in range(9):\n",
    "    for col in range(8):\n",
    "        if (row, col) in mapping:\n",
    "            print('{: 3}|'.format(mapping[row, col]), end='')\n",
    "        else:\n",
    "            print(' . |', end='')\n",
    "    print()\n",
    "    print('-' * (4 * 8))\n",
    "\n",
    "assert count == 1242"
   ]
  },
  {
   "cell_type": "markdown",
   "metadata": {},
   "source": [
    "Now we should be ready to count all continous regions for the challenge input:"
   ]
  },
  {
   "cell_type": "code",
   "execution_count": 9,
   "metadata": {
    "collapsed": false
   },
   "outputs": [
    {
     "data": {
      "text/plain": [
       "1139"
      ]
     },
     "execution_count": 9,
     "metadata": {},
     "output_type": "execute_result"
    }
   ],
   "source": [
    "mapping, count = count_regions(challenge)\n",
    "count"
   ]
  }
 ],
 "metadata": {
  "kernelspec": {
   "display_name": "Python 3",
   "language": "python",
   "name": "python3"
  },
  "language_info": {
   "codemirror_mode": {
    "name": "ipython",
    "version": 3
   },
   "file_extension": ".py",
   "mimetype": "text/x-python",
   "name": "python",
   "nbconvert_exporter": "python",
   "pygments_lexer": "ipython3",
   "version": "3.5.3"
  }
 },
 "nbformat": 4,
 "nbformat_minor": 2
}
