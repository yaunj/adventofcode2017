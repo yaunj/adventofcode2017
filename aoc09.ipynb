{
 "cells": [
  {
   "cell_type": "markdown",
   "metadata": {},
   "source": [
    "## Day 9: Stream Processing\n",
    "\n",
    "A large stream blocks your path. According to the locals, it's not safe to cross the stream at the moment because it's full of garbage. You look down at the stream; rather than water, you discover that it's a stream of characters.\n",
    "\n",
    "You sit for a while and record part of the stream (your puzzle input). The characters represent groups - sequences that begin with { and end with }. Within a group, there are zero or more other things, separated by commas: either another group or garbage. Since groups can contain other groups, a } only closes the most-recently-opened unclosed group - that is, they are nestable. Your puzzle input represents a single, large group which itself contains many smaller ones.\n",
    "\n",
    "Sometimes, instead of a group, you will find garbage. Garbage begins with < and ends with >. Between those angle brackets, almost any character can appear, including { and }. Within garbage, < has no special meaning.\n",
    "\n",
    "In a futile attempt to clean up the garbage, some program has canceled some of the characters within it using !: inside garbage, any character that comes after ! should be ignored, including <, >, and even another !.\n",
    "\n",
    "You don't see any characters that deviate from these rules. Outside garbage, you only find well-formed groups, and garbage always terminates according to the rules above.\n",
    "\n",
    "Here are some self-contained pieces of garbage:\n",
    "\n",
    "    <>, empty garbage.\n",
    "    <random characters>, garbage containing random characters.\n",
    "    <<<<>, because the extra < are ignored.\n",
    "    <{!>}>, because the first > is canceled.\n",
    "    <!!>, because the second ! is canceled, allowing the > to terminate the garbage.\n",
    "    <!!!>>, because the second ! and the first > are canceled.\n",
    "    <{o\"i!a,<{i<a>, which ends at the first >.\n",
    "\n",
    "Here are some examples of whole streams and the number of groups they contain:\n",
    "\n",
    "    {}, 1 group.\n",
    "    {{{}}}, 3 groups.\n",
    "    {{},{}}, also 3 groups.\n",
    "    {{{},{},{{}}}}, 6 groups.\n",
    "    {<{},{},{{}}>}, 1 group (which itself contains garbage).\n",
    "    {<a>,<a>,<a>,<a>}, 1 group.\n",
    "    {{<a>},{<a>},{<a>},{<a>}}, 5 groups.\n",
    "    {{<!>},{<!>},{<!>},{<a>}}, 2 groups (since all but the last > are canceled).\n",
    "\n",
    "Your goal is to find the total score for all groups in your input. Each group is assigned a score which is one more than the score of the group that immediately contains it. (The outermost group gets a score of 1.)\n",
    "\n",
    "    {}, score of 1.\n",
    "    {{{}}}, score of 1 + 2 + 3 = 6.\n",
    "    {{},{}}, score of 1 + 2 + 2 = 5.\n",
    "    {{{},{},{{}}}}, score of 1 + 2 + 3 + 3 + 3 + 4 = 16.\n",
    "    {<a>,<a>,<a>,<a>}, score of 1.\n",
    "    {{<ab>},{<ab>},{<ab>},{<ab>}}, score of 1 + 2 + 2 + 2 + 2 = 9.\n",
    "    {{<!!>},{<!!>},{<!!>},{<!!>}}, score of 1 + 2 + 2 + 2 + 2 = 9.\n",
    "    {{<a!>},{<a!>},{<a!>},{<ab>}}, score of 1 + 2 = 3.\n",
    "\n",
    "What is the total score for all groups in your input?"
   ]
  },
  {
   "cell_type": "code",
   "execution_count": 1,
   "metadata": {
    "collapsed": true
   },
   "outputs": [],
   "source": [
    "testcases = (\n",
    "    ('{}', 1),                                                          \n",
    "    ('{{{}}}', 6),                                                      \n",
    "    ('{{},{}}', 5),                                                     \n",
    "    ('{{{},{},{{}}}}', 16),                                             \n",
    "    ('{<a>,<a>,<a>,<a>}', 1),                                           \n",
    "    ('{{<ab>},{<ab>},{<ab>},{<ab>}}', 9),                               \n",
    "    ('{{<!!>},{<!!>},{<!!>},{<!!>}}', 9),                               \n",
    "    ('{{<a!>},{<a!>},{<a!>},{<ab>}}', 3),\n",
    ")"
   ]
  },
  {
   "cell_type": "code",
   "execution_count": 2,
   "metadata": {
    "collapsed": true
   },
   "outputs": [],
   "source": [
    "def parse_garbage(stream):\n",
    "    for char in stream:\n",
    "        if char == '!':\n",
    "            x = next(stream)\n",
    "            continue\n",
    "        \n",
    "        if char == '>':\n",
    "            return\n",
    "\n",
    "def parse_group(stream, level=0):\n",
    "    score = 1 * level\n",
    "    \n",
    "    for char in stream:\n",
    "        if char == '{':\n",
    "            score += parse_group(stream, level + 1)\n",
    "        elif char == '}':\n",
    "            return score\n",
    "        elif char == '<':\n",
    "            parse_garbage(stream)\n",
    "    \n",
    "    return score\n",
    "\n",
    "def chars_from_file(filename):\n",
    "    with open(filename) as data:\n",
    "        for line in data:\n",
    "            for char in line:\n",
    "                yield char"
   ]
  },
  {
   "cell_type": "code",
   "execution_count": 3,
   "metadata": {
    "collapsed": false
   },
   "outputs": [],
   "source": [
    "def run_tests(test_func, cases):\n",
    "    for case, expected in cases:\n",
    "        print(\"Testing\", repr(case))\n",
    "        actual = test_func(case)\n",
    "    \n",
    "        if actual != expected:\n",
    "            print(\"Failed:\", actual, '!=', expected)\n",
    "        else:\n",
    "            print(\"OK:\", actual, '==', expected)"
   ]
  },
  {
   "cell_type": "code",
   "execution_count": 4,
   "metadata": {
    "collapsed": false
   },
   "outputs": [
    {
     "name": "stdout",
     "output_type": "stream",
     "text": [
      "Testing '{}'\n",
      "OK: 1 == 1\n",
      "Testing '{{{}}}'\n",
      "OK: 6 == 6\n",
      "Testing '{{},{}}'\n",
      "OK: 5 == 5\n",
      "Testing '{{{},{},{{}}}}'\n",
      "OK: 16 == 16\n",
      "Testing '{<a>,<a>,<a>,<a>}'\n",
      "OK: 1 == 1\n",
      "Testing '{{<ab>},{<ab>},{<ab>},{<ab>}}'\n",
      "OK: 9 == 9\n",
      "Testing '{{<!!>},{<!!>},{<!!>},{<!!>}}'\n",
      "OK: 9 == 9\n",
      "Testing '{{<a!>},{<a!>},{<a!>},{<ab>}}'\n",
      "OK: 3 == 3\n"
     ]
    }
   ],
   "source": [
    "run_tests(lambda case: parse_group(iter(case)), testcases)"
   ]
  },
  {
   "cell_type": "code",
   "execution_count": 5,
   "metadata": {
    "collapsed": false
   },
   "outputs": [
    {
     "data": {
      "text/plain": [
       "11347"
      ]
     },
     "execution_count": 5,
     "metadata": {},
     "output_type": "execute_result"
    }
   ],
   "source": [
    "parse_group(chars_from_file('day9.txt'))"
   ]
  },
  {
   "cell_type": "markdown",
   "metadata": {},
   "source": [
    "## Part Two\n",
    "\n",
    "Now, you're ready to remove the garbage.\n",
    "\n",
    "To prove you've removed it, you need to count all of the characters within the garbage. The leading and trailing < and > don't count, nor do any canceled characters or the ! doing the canceling.\n",
    "\n",
    "    <>, 0 characters.\n",
    "    <random characters>, 17 characters.\n",
    "    <<<<>, 3 characters.\n",
    "    <{!>}>, 2 characters.\n",
    "    <!!>, 0 characters.\n",
    "    <!!!>>, 0 characters.\n",
    "    <{o\"i!a,<{i<a>, 10 characters.\n",
    "\n",
    "How many non-canceled characters are within the garbage in your puzzle input?"
   ]
  },
  {
   "cell_type": "code",
   "execution_count": 6,
   "metadata": {
    "collapsed": true
   },
   "outputs": [],
   "source": [
    "garbage_tests = (\n",
    "    ('<>', 0),\n",
    "    ('<random characters>', 17),\n",
    "    ('<<<<>', 3),\n",
    "    ('<{!>}>', 2),\n",
    "    ('<!!>', 0),\n",
    "    ('<!!!>>', 0),\n",
    "    ('<{o\"i!a,<{i<a>', 10),\n",
    ")"
   ]
  },
  {
   "cell_type": "code",
   "execution_count": 7,
   "metadata": {
    "collapsed": true
   },
   "outputs": [],
   "source": [
    "def parse_garbage(stream):\n",
    "    count = 0\n",
    "    \n",
    "    for char in stream:\n",
    "        if char == '!':\n",
    "            x = next(stream)\n",
    "            continue\n",
    "        \n",
    "        if char == '>':\n",
    "            return count\n",
    "        \n",
    "        count += 1\n",
    "\n",
    "def parse_group(stream, level=0):\n",
    "    score = 1 * level\n",
    "    garbage = 0\n",
    "    \n",
    "    for char in stream:\n",
    "        if char == '{':\n",
    "            nscore, ngarbage = parse_group(stream, level + 1)\n",
    "            score += nscore\n",
    "            garbage += ngarbage\n",
    "        elif char == '}':\n",
    "            return score, garbage\n",
    "        elif char == '<':\n",
    "            garbage += parse_garbage(stream)\n",
    "    \n",
    "    return score, garbage"
   ]
  },
  {
   "cell_type": "code",
   "execution_count": 8,
   "metadata": {
    "collapsed": false,
    "scrolled": true
   },
   "outputs": [
    {
     "name": "stdout",
     "output_type": "stream",
     "text": [
      "Testing '<>'\n",
      "OK: 0 == 0\n",
      "Testing '<random characters>'\n",
      "OK: 17 == 17\n",
      "Testing '<<<<>'\n",
      "OK: 3 == 3\n",
      "Testing '<{!>}>'\n",
      "OK: 2 == 2\n",
      "Testing '<!!>'\n",
      "OK: 0 == 0\n",
      "Testing '<!!!>>'\n",
      "OK: 0 == 0\n",
      "Testing '<{o\"i!a,<{i<a>'\n",
      "OK: 10 == 10\n"
     ]
    }
   ],
   "source": [
    "run_tests(lambda case: parse_group(iter(case))[1], garbage_tests)"
   ]
  },
  {
   "cell_type": "code",
   "execution_count": 9,
   "metadata": {
    "collapsed": false
   },
   "outputs": [
    {
     "data": {
      "text/plain": [
       "5404"
      ]
     },
     "execution_count": 9,
     "metadata": {},
     "output_type": "execute_result"
    }
   ],
   "source": [
    "parse_group(chars_from_file('day9.txt'))[1]"
   ]
  }
 ],
 "metadata": {
  "kernelspec": {
   "display_name": "Python 3",
   "language": "python",
   "name": "python3"
  },
  "language_info": {
   "codemirror_mode": {
    "name": "ipython",
    "version": 3
   },
   "file_extension": ".py",
   "mimetype": "text/x-python",
   "name": "python",
   "nbconvert_exporter": "python",
   "pygments_lexer": "ipython3",
   "version": "3.5.2"
  }
 },
 "nbformat": 4,
 "nbformat_minor": 2
}
