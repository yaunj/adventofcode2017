{
 "cells": [
  {
   "cell_type": "markdown",
   "metadata": {},
   "source": [
    "# Day 20: Particle Swarm\n",
    "\n",
    "Suddenly, the GPU contacts you, asking for help. Someone has asked it to simulate *too many particles*, and it won't be able to finish them all in time to render the next frame at this rate.\n",
    "\n",
    "It transmits to you a buffer (your puzzle input) listing each particle in order (starting with particle `0`, then particle `1`, particle `2`, and so on). For each particle, it provides the `X`, `Y`, and `Z` coordinates for the particle's position (`p`), velocity (`v`), and acceleration (`a`), each in the format `<X,Y,Z>`.\n",
    "\n",
    "Each tick, all particles are updated simultaneously. A particle's properties are\n",
    "updated in the following order:\n",
    "\n",
    "* Increase the `X` velocity by the `X` acceleration.\n",
    "* Increase the `Y` velocity by the `Y` acceleration.\n",
    "* Increase the `Z` velocity by the `Z` acceleration.\n",
    "* Increase the `X` position by the `X` velocity.\n",
    "* Increase the `Y` position by the `Y` velocity.\n",
    "* Increase the `Z` position by the `Z` velocity.\n",
    "\n",
    "Because of seemingly tenuous rationale involving [z-buffering](https://en.wikipedia.org/wiki/Z-buffering), the GPU would like to know which particle will stay closest to position `<0,0,0>` in the long term. Measure this using the [Manhattan distance](https://en.wikipedia.org/wiki/Taxicab_geometry), which in this situation is simply the sum of the absolute values of a particle's `X`, `Y`, and `Z` position.\n",
    "\n",
    "For example, suppose you are only given two particles, both of which stay entirely on the X-axis (for simplicity). Drawing the current states of particles `0` and `1` (in that order) with an adjacent a number line and diagram of current `X` positions (marked in parenthesis), the following would take place:\n",
    "\n",
    "    p=< 3,0,0>, v=< 2,0,0>, a=<-1,0,0>    -4 -3 -2 -1  0  1  2  3  4\n",
    "    p=< 4,0,0>, v=< 0,0,0>, a=<-2,0,0>                         (0)(1)\n",
    "    \n",
    "    p=< 4,0,0>, v=< 1,0,0>, a=<-1,0,0>    -4 -3 -2 -1  0  1  2  3  4\n",
    "    p=< 2,0,0>, v=<-2,0,0>, a=<-2,0,0>                      (1)   (0)\n",
    "    \n",
    "    p=< 4,0,0>, v=< 0,0,0>, a=<-1,0,0>    -4 -3 -2 -1  0  1  2  3  4\n",
    "    p=<-2,0,0>, v=<-4,0,0>, a=<-2,0,0>          (1)               (0)\n",
    "    \n",
    "    p=< 3,0,0>, v=<-1,0,0>, a=<-1,0,0>    -4 -3 -2 -1  0  1  2  3  4\n",
    "    p=<-8,0,0>, v=<-6,0,0>, a=<-2,0,0>                         (0)   \n",
    "\n",
    "At this point, particle `1` will never be closer to `<0,0,0>` than particle `0`, and so, in the long run, particle `0` will stay closest.\n",
    "\n",
    "*Which particle will stay closest to position* `<0,0,0>` in the long term?"
   ]
  }
 ],
 "metadata": {
  "kernelspec": {
   "display_name": "Python 3",
   "language": "python",
   "name": "python3"
  },
  "language_info": {
   "codemirror_mode": {
    "name": "ipython",
    "version": 3
   },
   "file_extension": ".py",
   "mimetype": "text/x-python",
   "name": "python",
   "nbconvert_exporter": "python",
   "pygments_lexer": "ipython3",
   "version": "3.5.3"
  }
 },
 "nbformat": 4,
 "nbformat_minor": 2
}
