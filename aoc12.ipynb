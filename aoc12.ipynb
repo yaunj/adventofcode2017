{
 "cells": [
  {
   "cell_type": "markdown",
   "metadata": {},
   "source": [
    "# Day 12: Digital Plumber\n",
    "\n",
    "Walking along the memory banks of the stream, you find a small village that is experiencing a little confusion: some programs can't communicate with each other.\n",
    "\n",
    "Programs in this village communicate using a fixed system of pipes. Messages are passed between programs using these pipes, but most programs aren't connected to each other directly. Instead, programs pass messages between each other until the message reaches the intended recipient.\n",
    "\n",
    "For some reason, though, some of these messages aren't ever reaching their intended recipient, and the programs suspect that some pipes are missing. They would like you to investigate.\n",
    "\n",
    "You walk through the village and record the ID of each program and the IDs with which it can communicate directly (your puzzle input). Each program has one or more programs with which it can communicate, and these pipes are bidirectional; if 8 says it can communicate with 11, then 11 will say it can communicate with 8.\n",
    "\n",
    "You need to figure out how many programs are in the group that contains program ID 0.\n",
    "\n",
    "For example, suppose you go door-to-door like a travelling salesman and record the following list:\n",
    "\n",
    "    0 <-> 2\n",
    "    1 <-> 1\n",
    "    2 <-> 0, 3, 4\n",
    "    3 <-> 2, 4\n",
    "    4 <-> 2, 3, 6\n",
    "    5 <-> 6\n",
    "    6 <-> 4, 5\n",
    "\n",
    "In this example, the following programs are in the group that contains program ID 0:\n",
    "\n",
    "* Program 0 by definition.\n",
    "* Program 2, directly connected to program 0.\n",
    "* Program 3 via program 2.\n",
    "* Program 4 via program 2.\n",
    "* Program 5 via programs 6, then 4, then 2.\n",
    "* Program 6 via programs 4, then 2.\n",
    "\n",
    "Therefore, a total of 6 programs are in this group; all but program 1, which has a pipe that connects it to itself.\n",
    "\n",
    "How many programs are in the group that contains program ID 0?"
   ]
  },
  {
   "cell_type": "code",
   "execution_count": 1,
   "metadata": {
    "collapsed": true
   },
   "outputs": [],
   "source": [
    "test_case = (\"\"\"0 <-> 2\n",
    "1 <-> 1\n",
    "2 <-> 0, 3, 4\n",
    "3 <-> 2, 4\n",
    "4 <-> 2, 3, 6\n",
    "5 <-> 6\n",
    "6 <-> 4, 5\"\"\".split('\\n'), 6)"
   ]
  },
  {
   "cell_type": "code",
   "execution_count": 2,
   "metadata": {
    "collapsed": true
   },
   "outputs": [],
   "source": [
    "def solve(lines, target=0):\n",
    "    programs = {}\n",
    "    result = {target}\n",
    "\n",
    "    for line in lines:\n",
    "        program, connections = line.split(' <-> ')\n",
    "        programs[int(program)] = {int(c) for c in connections.split(', ')}\n",
    "        \n",
    "    found_more = True\n",
    "    while found_more:\n",
    "        found_more = False\n",
    "        \n",
    "        for program in list(result):\n",
    "            connections = programs[program]\n",
    "            if program in result and all(c in result for c in connections):\n",
    "                continue\n",
    "            \n",
    "            if program in result or program == target:\n",
    "                found_more = True\n",
    "                result.update({c for c in connections})\n",
    "\n",
    "    return result"
   ]
  },
  {
   "cell_type": "code",
   "execution_count": 3,
   "metadata": {
    "collapsed": false
   },
   "outputs": [
    {
     "name": "stdout",
     "output_type": "stream",
     "text": [
      "{0, 2, 3, 4, 5, 6}\n"
     ]
    }
   ],
   "source": [
    "actual = solve(test_case[0])\n",
    "print(actual)\n",
    "assert len(actual) == test_case[1]"
   ]
  },
  {
   "cell_type": "code",
   "execution_count": 4,
   "metadata": {
    "collapsed": false
   },
   "outputs": [
    {
     "name": "stdout",
     "output_type": "stream",
     "text": [
      "113\n"
     ]
    }
   ],
   "source": [
    "print(len(solve(open('day11.txt'))))"
   ]
  }
 ],
 "metadata": {
  "kernelspec": {
   "display_name": "Python 3",
   "language": "python",
   "name": "python3"
  },
  "language_info": {
   "codemirror_mode": {
    "name": "ipython",
    "version": 3
   },
   "file_extension": ".py",
   "mimetype": "text/x-python",
   "name": "python",
   "nbconvert_exporter": "python",
   "pygments_lexer": "ipython3",
   "version": "3.5.2"
  }
 },
 "nbformat": 4,
 "nbformat_minor": 2
}
