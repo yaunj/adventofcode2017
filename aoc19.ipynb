{
 "cells": [
  {
   "cell_type": "markdown",
   "metadata": {},
   "source": [
    "# Day 19: A Series of Tubes\n",
    "\n",
    "Somehow, a network packet got lost and ended up here. It's trying to follow a routing diagram (your puzzle input), but it's confused about where to go.\n",
    "\n",
    "Its starting point is just off the top of the diagram. Lines (drawn with `|`, `-`, and `+`) show the path it needs to take, starting by going down onto the only line connected to the top of the diagram. It needs to follow this path until it reaches the end (located somewhere within the diagram) and stop there.\n",
    "\n",
    "Sometimes, the lines cross over each other; in these cases, it needs to continue going the same direction, and only turn left or right when there's no other option. In addition, someone has left *letters* on the line; these also don't change its direction, but it can use them to keep track of where it's been. For example:\n",
    "\n",
    "         |          \n",
    "         |  +--+    \n",
    "         A  |  C    \n",
    "     F---|----E|--+ \n",
    "         |  |  |  D \n",
    "         +B-+  +--+ \n",
    "\n",
    "Given this diagram, the packet needs to take the following path:\n",
    "\n",
    "* Starting at the only line touching the top of the diagram, it must go down, pass through `A`, and continue onward to the first `+`.\n",
    "* Travel right, up, and right, passing through `B` in the process.\n",
    "* Continue down (collecting `C`), right, and up (collecting `D`).\n",
    "* Finally, go all the way left through `E` and stopping at `F`.\n",
    "\n",
    "Following the path to the end, the letters it sees on its path are `ABCDEF`.\n",
    "\n",
    "The little packet looks up at you, hoping you can help it find the way. *What letters will it see* (in the order it would see them) if it follows the path? (The routing diagram is very wide; make sure you view it without line wrapping.)"
   ]
  }
 ],
 "metadata": {
  "kernelspec": {
   "display_name": "Python 3",
   "language": "python",
   "name": "python3"
  },
  "language_info": {
   "codemirror_mode": {
    "name": "ipython",
    "version": 3
   },
   "file_extension": ".py",
   "mimetype": "text/x-python",
   "name": "python",
   "nbconvert_exporter": "python",
   "pygments_lexer": "ipython3",
   "version": "3.5.3"
  }
 },
 "nbformat": 4,
 "nbformat_minor": 2
}
