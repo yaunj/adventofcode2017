{
 "cells": [
  {
   "cell_type": "markdown",
   "metadata": {},
   "source": [
    "## Day 3: Spiral Memory\n",
    "\n",
    "You come across an experimental new kind of memory stored on an infinite two-dimensional grid.\n",
    "\n",
    "Each square on the grid is allocated in a spiral pattern starting at a location marked 1 and then counting up while spiraling outward. For example, the first few squares are allocated like this:\n",
    "\n",
    "    17  16  15  14  13\n",
    "    18   5   4   3  12\n",
    "    19   6   1   2  11\n",
    "    20   7   8   9  10\n",
    "    21  22  23---> ...\n",
    "\n",
    "While this is very space-efficient (no squares are skipped), requested data must be carried back to square 1 (the location of the only access port for this memory system) by programs that can only move up, down, left, or right. They always take the shortest path: the Manhattan Distance between the location of the data and square 1.\n",
    "\n",
    "For example:\n",
    "\n",
    "* Data from square 1 is carried 0 steps, since it's at the access port.\n",
    "* Data from square 12 is carried 3 steps, such as: down, left, left.\n",
    "* Data from square 23 is carried only 2 steps: up twice.\n",
    "* Data from square 1024 must be carried 31 steps.\n",
    "\n",
    "How many steps are required to carry the data from the square identified in your puzzle input all the way to the access port?\n",
    "\n",
    "Your puzzle input is 325489."
   ]
  },
  {
   "cell_type": "code",
   "execution_count": 6,
   "metadata": {
    "collapsed": true
   },
   "outputs": [],
   "source": [
    "import math\n",
    "\n",
    "INPUT = 325489"
   ]
  },
  {
   "cell_type": "code",
   "execution_count": 7,
   "metadata": {
    "collapsed": false
   },
   "outputs": [],
   "source": [
    "def width(num):\n",
    "    estimate = math.ceil(math.sqrt(num))\n",
    "    if estimate % 2 == 0:\n",
    "        estimate += 1\n",
    "    return estimate\n",
    "\n",
    "assert width(1) == 1\n",
    "assert width(12) == 5\n",
    "assert width(23) == 5"
   ]
  },
  {
   "cell_type": "code",
   "execution_count": 22,
   "metadata": {
    "collapsed": true
   },
   "outputs": [],
   "source": [
    "def center(table):\n",
    "    return int(len(table) / 2), int(len(table) / 2)\n",
    "\n",
    "\n",
    "def walk(table):\n",
    "    \"\"\"Start in the middle, spiral outwards, and yield coordinates\"\"\"\n",
    "    step = 0\n",
    "\n",
    "    # Start in the middle\n",
    "    x, y = center(table)\n",
    "    yield y, x\n",
    "\n",
    "    # One iteration is one trip around the existing square\n",
    "    for _ in range(int(len(table) / 2)):\n",
    "        step += 2\n",
    "\n",
    "        # step right to the next square\n",
    "        x += 1\n",
    "        yield y, x\n",
    "\n",
    "        # to the top\n",
    "        for yoff in range(step - 1):\n",
    "            y -= 1\n",
    "            yield y, x\n",
    "\n",
    "        # to the left\n",
    "        for xleft in range(step):\n",
    "            x -= 1\n",
    "            yield y, x\n",
    "\n",
    "        # to the bottom\n",
    "        for _ in range(step):\n",
    "            y += 1\n",
    "            yield y, x\n",
    "\n",
    "        # to the right\n",
    "        for _ in range(step):\n",
    "            x += 1\n",
    "            yield y, x\n",
    "\n",
    "\n",
    "def construct(num):\n",
    "    # Allocate space for the table and fill with zeroes\n",
    "    row = [0] * width(num)\n",
    "    # To copy a list in Python, a slice from start to end is necessary\n",
    "    # With row, and not row[:], you'd get the same row\n",
    "    table = [row[:] for _ in row]\n",
    "\n",
    "    i = 1\n",
    "\n",
    "    # Fill the table with values\n",
    "    for x, y in walk(table):\n",
    "        table[x][y] = i\n",
    "        if i == num:\n",
    "            point = x, y\n",
    "        i += 1\n",
    "\n",
    "    return (table, point)"
   ]
  },
  {
   "cell_type": "code",
   "execution_count": 23,
   "metadata": {
    "collapsed": false
   },
   "outputs": [
    {
     "data": {
      "text/plain": [
       "([[17, 16, 15, 14, 13],\n",
       "  [18, 5, 4, 3, 12],\n",
       "  [19, 6, 1, 2, 11],\n",
       "  [20, 7, 8, 9, 10],\n",
       "  [21, 22, 23, 24, 25]],\n",
       " (3, 4))"
      ]
     },
     "execution_count": 23,
     "metadata": {},
     "output_type": "execute_result"
    }
   ],
   "source": [
    "construct(10)"
   ]
  },
  {
   "cell_type": "code",
   "execution_count": 24,
   "metadata": {
    "collapsed": true
   },
   "outputs": [],
   "source": [
    "def locate(number, table):\n",
    "    for x, y in walk(table):\n",
    "        if table[x][y] == number:\n",
    "            return x, y\n",
    "\n",
    "def compute_distance(a, b):\n",
    "    return abs(a[0] - b[0]) + abs(a[1] - b[1])\n",
    "\n",
    "def distance(number):\n",
    "    table, point = construct(number)\n",
    "    origin = center(table)\n",
    "    #point = locate(number, table)\n",
    "    return compute_distance(origin, point)"
   ]
  },
  {
   "cell_type": "code",
   "execution_count": 25,
   "metadata": {
    "collapsed": false
   },
   "outputs": [],
   "source": [
    "assert distance(1) == 0\n",
    "assert distance(12) == 3\n",
    "assert distance(23) == 2\n",
    "assert distance(1024) == 31"
   ]
  },
  {
   "cell_type": "code",
   "execution_count": 26,
   "metadata": {
    "collapsed": false
   },
   "outputs": [
    {
     "data": {
      "text/plain": [
       "552"
      ]
     },
     "execution_count": 26,
     "metadata": {},
     "output_type": "execute_result"
    }
   ],
   "source": [
    "distance(INPUT)"
   ]
  },
  {
   "cell_type": "markdown",
   "metadata": {},
   "source": [
    "## Part Two\n",
    "\n",
    "As a stress test on the system, the programs here clear the grid and then store the value 1 in square 1. Then, in the same allocation order as shown above, they store the sum of the values in all adjacent squares, including diagonals.\n",
    "\n",
    "So, the first few squares' values are chosen as follows:\n",
    "\n",
    "* Square 1 starts with the value 1.\n",
    "* Square 2 has only one adjacent filled square (with value 1), so it also stores 1.\n",
    "* Square 3 has both of the above squares as neighbors and stores the sum of their values, 2.\n",
    "* Square 4 has all three of the aforementioned squares as neighbors and stores the sum of their values, 4.\n",
    "* Square 5 only has the first and fourth squares as neighbors, so it gets the value 5.\n",
    "\n",
    "Once a square is written, its value does not change. Therefore, the first few squares would receive the following values:\n",
    "\n",
    "    147  142  133  122   59\n",
    "    304    5    4    2   57\n",
    "    330   10    1    1   54\n",
    "    351   11   23   25   26\n",
    "    362  747  806--->   ...\n",
    "\n",
    "What is the first value written that is larger than your puzzle input?"
   ]
  },
  {
   "cell_type": "code",
   "execution_count": 30,
   "metadata": {
    "collapsed": false
   },
   "outputs": [],
   "source": [
    "def cellv(table, x, y, default=0):\n",
    "    \"\"\"\n",
    "    Return cell value if coordinates are within bounds\n",
    "    Return default value if coordinates are out of bounds\n",
    "    \"\"\"\n",
    "    val = default\n",
    "    \n",
    "    if 0 <= x <= len(table):\n",
    "        if 0 <= y <= len(table[x]):\n",
    "            val = table[x][y]\n",
    "    \n",
    "    return val\n",
    "    \n",
    "    \n",
    "def neighbors(t, x, y):\n",
    "    \"\"\"\n",
    "    Return values of neighbor cells (zero if out of bounds)\n",
    "    \"\"\"\n",
    "    neigh = [\n",
    "        [cellv(t, x-1, y-1), cellv(t, x-1, y), cellv(t, x-1, y+1)],\n",
    "        [cellv(t,   x, y-1), cellv(t,   x, y), cellv(t,   x, y+1)],\n",
    "        [cellv(t, x+1, y-1), cellv(t, x+1, y), cellv(t, x+1, y+1)],\n",
    "    ]\n",
    "    return neigh\n",
    "\n",
    "\n",
    "def sum_neighbors(table, x, y):\n",
    "    \"\"\"Return sum of all neighbor cells\"\"\"\n",
    "    return sum(sum(row) for row in neighbors(table, x, y))\n",
    "\n",
    "\n",
    "def construct2(num):\n",
    "    # Similar tricks as in construct(num)\n",
    "    row = [0] * width(num)\n",
    "    table = [row[:] for _ in row]\n",
    "\n",
    "    # Initialize the center of the table\n",
    "    x, y = center(table)\n",
    "    table[x][y] = 1  # init\n",
    "    \n",
    "    for x, y in walk(table):\n",
    "        nsum = sum_neighbors(table, x, y)\n",
    "        table[x][y] = nsum\n",
    "        \n",
    "        if nsum > num:\n",
    "            print(\"A winner is: {nsum} ({x},{y})\".format(**locals()))\n",
    "            break\n",
    "        \n",
    "    return table"
   ]
  },
  {
   "cell_type": "code",
   "execution_count": 31,
   "metadata": {
    "collapsed": false
   },
   "outputs": [
    {
     "name": "stdout",
     "output_type": "stream",
     "text": [
      "A winner is: 11 (3,1)\n"
     ]
    },
    {
     "data": {
      "text/plain": [
       "[[0, 0, 0, 0, 0],\n",
       " [0, 5, 4, 2, 0],\n",
       " [0, 10, 1, 1, 0],\n",
       " [0, 11, 0, 0, 0],\n",
       " [0, 0, 0, 0, 0]]"
      ]
     },
     "execution_count": 31,
     "metadata": {},
     "output_type": "execute_result"
    }
   ],
   "source": [
    "construct2(10)"
   ]
  },
  {
   "cell_type": "code",
   "execution_count": 32,
   "metadata": {
    "collapsed": false
   },
   "outputs": [
    {
     "name": "stdout",
     "output_type": "stream",
     "text": [
      "A winner is: 330785 (281,284)\n"
     ]
    }
   ],
   "source": [
    "_ = construct2(INPUT)"
   ]
  }
 ],
 "metadata": {
  "kernelspec": {
   "display_name": "Python 3",
   "language": "python",
   "name": "python3"
  },
  "language_info": {
   "codemirror_mode": {
    "name": "ipython",
    "version": 3
   },
   "file_extension": ".py",
   "mimetype": "text/x-python",
   "name": "python",
   "nbconvert_exporter": "python",
   "pygments_lexer": "ipython3",
   "version": "3.5.2"
  }
 },
 "nbformat": 4,
 "nbformat_minor": 2
}
