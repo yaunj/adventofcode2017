{
 "cells": [
  {
   "cell_type": "markdown",
   "metadata": {},
   "source": [
    "# Day 11: Hex Ed\n",
    "\n",
    "Crossing the bridge, you've barely reached the other side of the stream when a program comes up to you, clearly in distress. \"It's my child process,\" she says, \"he's gotten lost in an infinite grid!\"\n",
    "\n",
    "Fortunately for her, you have plenty of experience with infinite grids.\n",
    "\n",
    "Unfortunately for you, it's a [hex grid](https://en.wikipedia.org/wiki/Hexagonal_tiling).\n",
    "\n",
    "The hexagons (\"hexes\") in this grid are aligned such that adjacent hexes can be found to the north, northeast, southeast, south, southwest, and northwest:\n",
    "\n",
    "      \\ n  /\n",
    "    nw +--+ ne\n",
    "      /    \\\n",
    "    -+      +-\n",
    "      \\    /\n",
    "    sw +--+ se\n",
    "      / s  \\\n",
    "\n",
    "You have the path the child process took. Starting where he started, you need to determine the fewest number of steps required to reach him. (A \"step\" means to move from the hex you are in to any adjacent hex.)\n",
    "\n",
    "For example:\n",
    "\n",
    "* `ne,ne,ne` is 3 steps away.\n",
    "* `ne,ne,sw,sw` is 0 steps away (back where you started).\n",
    "* `ne,ne,s,s` is 2 steps away (`se,se`).\n",
    "* `se,sw,se,sw,sw` is 3 steps away (`s,s,sw`)"
   ]
  },
  {
   "cell_type": "markdown",
   "metadata": {},
   "source": [
    "## Resources\n",
    "\n",
    "* [Hexagonal Grids](https://www.redblobgames.com/grids/hexagons/)"
   ]
  },
  {
   "cell_type": "code",
   "execution_count": 1,
   "metadata": {
    "collapsed": true
   },
   "outputs": [],
   "source": [
    "class Cube:\n",
    "    direction_map = {\n",
    "        'N': (0, 1, -1),\n",
    "        'NE': (1, 0, -1),\n",
    "        'SE': (1, -1, 0),\n",
    "        'S': (0, -1, 1),\n",
    "        'SW': (-1, 0, 1),\n",
    "        'NW': (-1, 1, 0),\n",
    "    }\n",
    "\n",
    "    def __init__(self, x, y, z):\n",
    "        if (x + y + z) != 0:\n",
    "            raise ValueError(\"Invalid coordinates\")\n",
    "        self.x, self.y, self.z = x, y, z\n",
    "    \n",
    "    def move(self, direction):\n",
    "        offset = direction_map[direction]\n",
    "        return Cube(\n",
    "            self.x + offset[0],\n",
    "            self.y + offset[1],\n",
    "            self.z + offset[2]\n",
    "        )\n",
    "\n",
    "    def distance(self, other):\n",
    "        return int(\n",
    "            (abs(self.x - other.x) +\n",
    "             abs(self.y - other.y) +\n",
    "             abs(self.z - other.z)) / 2\n",
    "        )\n",
    "\n",
    "    def neighbors(self):\n",
    "        return [self.move(d) for d in self.direction_map]\n",
    "    \n",
    "    def to_hex(self):\n",
    "        #return Hex(self.x, int(self.z + (self.x + (self.x & 1)) / 2))\n",
    "        return Hex(self.x, self.y)\n",
    "\n",
    "class Hex:\n",
    "    direction_map = {\n",
    "        'N': (0, -1),\n",
    "        'NE': (1, -1),\n",
    "        'SE': (1, 0),\n",
    "        'S': (0, 1),\n",
    "        'SW': (-1, 1),\n",
    "        'NW': (-1, 0),\n",
    "    }\n",
    "\n",
    "    def __init__(self, x, y):\n",
    "        self.x, self.y = x, y\n",
    "    \n",
    "    def move(self, direction):\n",
    "        offset = self.direction_map[direction]\n",
    "        return Hex(self.x + offset[0], self.y + offset[1])\n",
    "    \n",
    "    def distance(self, other):\n",
    "        return self.to_cube().distance(other.to_cube())\n",
    "    \n",
    "    def neighbors(self):\n",
    "        return [self.move(d) for d in self.direction_map]\n",
    "\n",
    "    def to_cube(self):\n",
    "        #return Cube(self.x, -self.x - self.z, int(self.y - (self.x + (self.x & 1)) / 2))\n",
    "        return Cube(self.x, -self.x - self.y, self.y)"
   ]
  },
  {
   "cell_type": "code",
   "execution_count": 2,
   "metadata": {
    "collapsed": false
   },
   "outputs": [],
   "source": [
    "def move(steps, start=Hex(0, 0)):\n",
    "    current = start\n",
    "    \n",
    "    for step in steps:\n",
    "        current = current.move(step.upper())\n",
    "        \n",
    "    return current\n",
    "\n",
    "\n",
    "def distance(string):\n",
    "    origin = Hex(0, 0)\n",
    "    end = move(string.strip().split(','))\n",
    "    return origin.distance(end)"
   ]
  },
  {
   "cell_type": "code",
   "execution_count": 3,
   "metadata": {
    "collapsed": false
   },
   "outputs": [
    {
     "name": "stdout",
     "output_type": "stream",
     "text": [
      "OK ne,ne,ne == 3\n",
      "OK ne,ne,sw,sw == 0\n",
      "OK ne,ne,s,s == 2\n",
      "OK se,sw,se,sw,sw == 3\n"
     ]
    }
   ],
   "source": [
    "testcases = (\n",
    "    ('ne,ne,ne', 3),\n",
    "    ('ne,ne,sw,sw', 0),\n",
    "    ('ne,ne,s,s', 2),\n",
    "    ('se,sw,se,sw,sw', 3),\n",
    ")\n",
    "\n",
    "def run_tests(cases, func):\n",
    "    for test, expected in testcases:\n",
    "        actual = func(test)\n",
    "        if actual == expected:\n",
    "            print('OK', test, '==', expected)\n",
    "        else:\n",
    "            print('ERROR', actual, '!=', expected, 'for', test)\n",
    "            \n",
    "run_tests(testcases, distance)"
   ]
  },
  {
   "cell_type": "code",
   "execution_count": 4,
   "metadata": {
    "collapsed": false
   },
   "outputs": [
    {
     "data": {
      "text/plain": [
       "805"
      ]
     },
     "execution_count": 4,
     "metadata": {},
     "output_type": "execute_result"
    }
   ],
   "source": [
    "inputdata = open('input/day11.txt').read()\n",
    "distance(inputdata)"
   ]
  },
  {
   "cell_type": "markdown",
   "metadata": {},
   "source": [
    "## Part 2\n",
    "\n",
    "How many steps away is the furthest he ever got from his starting position?"
   ]
  },
  {
   "cell_type": "code",
   "execution_count": 5,
   "metadata": {
    "collapsed": true
   },
   "outputs": [],
   "source": [
    "def max_dist(string):\n",
    "    origin = Hex(0, 0)\n",
    "    current = origin\n",
    "    current_max = 0\n",
    "\n",
    "    steps = string.strip().split(',')\n",
    "    \n",
    "    for step in steps:\n",
    "        current = current.move(step.upper())\n",
    "        current_max = max(current_max, origin.distance(current))\n",
    "    \n",
    "    return current_max"
   ]
  },
  {
   "cell_type": "code",
   "execution_count": 6,
   "metadata": {
    "collapsed": false
   },
   "outputs": [
    {
     "data": {
      "text/plain": [
       "1535"
      ]
     },
     "execution_count": 6,
     "metadata": {},
     "output_type": "execute_result"
    }
   ],
   "source": [
    "max_dist(inputdata)"
   ]
  }
 ],
 "metadata": {
  "kernelspec": {
   "display_name": "Python 3",
   "language": "python",
   "name": "python3"
  },
  "language_info": {
   "codemirror_mode": {
    "name": "ipython",
    "version": 3
   },
   "file_extension": ".py",
   "mimetype": "text/x-python",
   "name": "python",
   "nbconvert_exporter": "python",
   "pygments_lexer": "ipython3",
   "version": "3.5.3"
  }
 },
 "nbformat": 4,
 "nbformat_minor": 2
}
